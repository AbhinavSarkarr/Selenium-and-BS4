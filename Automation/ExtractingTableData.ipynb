{
 "cells": [
  {
   "cell_type": "code",
   "execution_count": 1,
   "metadata": {},
   "outputs": [],
   "source": [
    "import requests\n",
    "from bs4 import BeautifulSoup"
   ]
  },
  {
   "cell_type": "code",
   "execution_count": 2,
   "metadata": {},
   "outputs": [],
   "source": [
    "url = 'https://ticker.finology.in/'\n",
    "re = requests.get(url)\n",
    "soup = BeautifulSoup(re.text, 'lxml')"
   ]
  },
  {
   "cell_type": "code",
   "execution_count": 4,
   "metadata": {},
   "outputs": [
    {
     "data": {
      "text/plain": [
       "'\\r\\n\\r\\n<!DOCTYPE html>\\r\\n<html>\\r\\n<head>\\r\\n    <!-- Global site tag (gtag.js) - Google Analytics -->\\r\\n    <script async src=\"https://www.googletagmanager.com/gtag/js?id=UA-136614031-6\"></script>\\r\\n    <script>\\r\\n        window.dataLayer = window.dataLayer || [];\\r\\n        function gtag() { dataLayer.push(arguments); }\\r\\n        gtag(\\'js\\', new Date());\\r\\n\\r\\n        gtag(\\'config\\', \\'UA-136614031-6\\');\\r\\n    </script>\\r\\n    <!-- Required meta tags -->\\r\\n    <title>\\r\\n\\tFundamental Stock Analysis: Balance Sheet, Ratio analysis & financial tools\\r\\n</title><meta property=\"og:site_name\" content=\"https://ticker.finology.in/\" />\\r\\n    <meta property=\"og:title\" content=\"Fundamental Stock Analysis: Balance Sheet, Ratio analysis & financial tools\" />\\r\\n    <meta property=\"og:description\" content=\"Unlock the Power of Fundamental Stock Analysis: Financial Statements, Balance Sheet, Reports, and Ratios. Free forever.\" />\\r\\n    <meta property=\"og:image\" content=\"https://ticker.finology.in/images/ticker-link-image-2.jpg\" /><meta property=\"og:type\" content=\"website\" />\\r\\n    <meta property=\"og:url\" content=\"https://ticker.finology.in/default.aspx\">\\r\\n\\r\\n    <meta property=\"twitter:url\" content=\"https://ticker.finology.in/default.aspx\">\\r\\n    <meta name=\"twitter:title\" content=\"Fundamental Stock Analysis: Balance Sheet, Ratio analysis & financial tools\">\\r\\n    <meta name=\"twitter:description\" content=\"Unlock the Power of Fundamental Stock Analysis: Financial Statements, Balance Sheet, Reports, and Ratios. Free forever.\">\\r\\n    <meta name=\"twitter:image\" content=\"https://ticker.finology.in/images/ticker-link-image-2.jpg\" /><meta name=\"twitter:card\" content=\"https://ticker.finology.in/images/tickerplus-valuation.png\" /><meta charset=\"utf-8\" /><meta name=\"viewport\" content=\"width=device-width, initial-scale=1, shrink-to-fit=no\" /><link rel=\"stylesheet\" href=\"https://stackpath.bootstrapcdn.com/bootstrap/4.4.1/css/bootstrap.min.css\" integrity=\"sha384-Vkoo8x4CGsO3+Hhxv8T/Q5PaXtkKtu6ug5TOeNV6gBiFeWPGFN9MuhOf23Q9Ifjh\" crossorigin=\"anonymous\" /><link href=\"https://fonts.googleapis.com/css?family=Hind:300,400,500,600,700|Source+Sans+Pro:400,600,700\" rel=\"stylesheet\" />\\r\\n    <script src=\"https://cdnjs.cloudflare.com/ajax/libs/font-awesome/5.11.2/js/all.min.js\" integrity=\"sha256-qM7QTJSlvtPSxVRjVWNM2OfTAz/3k5ovHOKmKXuYMO4=\" crossorigin=\"anonymous\"></script>\\r\\n    <link rel=\"stylesheet\" type=\"text/css\" href=\"https://cdn.jsdelivr.net/gh/fitodac/bsnav@master/dist/bsnav.min.css\" /><link rel=\"stylesheet\" href=\"https://cdnjs.cloudflare.com/ajax/libs/jquery.perfect-scrollbar/1.4.0/css/perfect-scrollbar.min.css\" /><link rel=\"stylesheet\" href=\"https://cdnjs.cloudflare.com/ajax/libs/animate.css/3.7.2/animate.min.css\" integrity=\"sha256-PHcOkPmOshsMBC+vtJdVr5Mwb7r0LkSVJPlPrp/IMpU=\" crossorigin=\"anonymous\" /><link rel=\"stylesheet\" href=\"https://cdnjs.cloudflare.com/ajax/libs/OwlCarousel2/2.3.4/assets/owl.carousel.min.css\" integrity=\"sha256-UhQQ4fxEeABh4JrcmAJ1+16id/1dnlOEVCFOxDef9Lw=\" crossorigin=\"anonymous\" /><link rel=\"stylesheet\" href=\"https://cdnjs.cloudflare.com/ajax/libs/OwlCarousel2/2.3.4/assets/owl.theme.default.min.css\" integrity=\"sha256-kksNxjDRxd/5+jGurZUJd1sdR2v+ClrCl3svESBaJqw=\" crossorigin=\"anonymous\" />\\r\\n    <link href=\"https://assets.finology.in/ticker/css/ticker.css?v=10.0\" rel=\"stylesheet\" />\\r\\n    <link href=\"https://assets.finology.in/ticker/css/dripicons/webfont.css\" rel=\"stylesheet\" />\\r\\n    <meta name=\"mobile-web-app-capable\" content=\"yes\" /><meta name=\"apple-mobile-web-app-capable\" content=\"yes\" />\\r\\n    <link rel=\"apple-touch-icon\" sizes=\"180x180\" href=\"https://assets.finology.in/ticker/images/icon/apple-touch-icon.png\">\\r\\n    <link rel=\"icon\" type=\"image/png\" sizes=\"32x32\" href=\"https://assets.finology.in/ticker/images/icon/favicon-32x32.png \">\\r\\n    <link rel=\"icon\" type=\"image/png\" sizes=\"16x16\" href=\"https://assets.finology.in/ticker/images/icon/favicon-16x16.png\">\\r\\n    <link rel=\"manifest\" href=\"https://assets.finology.in/ticker/images/icon/site.webmanifest\">\\r\\n    <link rel=\"mask-icon\" href=\"https://assets.finology.in/ticker/images/icon/safari-pinned-tab.svg\" color=\"#5bbad5\">\\r\\n    <link rel=\"shortcut icon\" href=\"https://assets.finology.in/ticker/images/icon/favicon.ico \">\\r\\n    <meta name=\"apple-mobile-web-app-title\" content=\"Finology Ticker - Stock Screener\" /><meta name=\"application-name\" content=\"Finology Ticker - Stock Screener\" /><meta name=\"msapplication-TileColor\" content=\"#2b5797\" />\\r\\n    <meta name=\"msapplication-config\" content=\"https://assets.finology.in/ticker/images/icon/browserconfig.xml\">\\r\\n    <meta name=\"theme-color\" content=\"#ffffff\" />\\r\\n        <script type=\"application/ld+json\">\\r\\n{\\r\\n\"@context\" : \"http://schema.org\",\\r\\n\"@type\"    : \"Organization\",\\r\\n\"url\"      : \"https://ticker.finology.in/\",\\r\\n\"logo\"     : \"https://ticker.finology.in/images/tickerlogo.svg\",\\r\\n\"name\"     : \"Finology Ticker\",\\r\\n\"sameAs\"   : [\"https://www.youtube.com/pranjalkamra\",\\r\\n\"https://www.instagram.com/myfinology\",\\r\\n\"https://www.facebook.com/myfinology\"]\\r\\n}\\r\\n        </script>\\r\\n    \\r\\n        <script type=\"application/ld+json\">\\r\\n{\"@context\":\"https://schema.org\",\\r\\n\"@type\":\"WebApplication\",\\r\\n\"name\":\"Finology Ticker\",\\r\\n\"url\":\"https://ticker.finology.in/\",\\r\\n\"description\":\"Unlock the Power of Fundamental Stock Analysis: Financial Statements, Balance Sheet, Reports, and Ratios. Free forever.\",\\r\\n\"applicationCategory\":\"SaaS\",\\r\\n\"operatingSystem\":\"All\",\\r\\n\"offers\": {\\r\\n\"@type\": \"Offer\",\\r\\n\"availability\": \"http://schema.org/InStock\",\\r\\n\"price\": \"0\",\\r\\n\"priceCurrency\": \"INR\"\\r\\n},\\r\\n\"aggregateRating\":{\"@type\":\"AggregateRating\",\\r\\n\"ratingValue\":\"4.5\",\"ratingCount\":\"15\"}}\\r\\n        </script>\\r\\n    \\r\\n\\r\\n    <style>\\r\\n        \\r\\n.partner a:before{\\r\\n    content: \\'ad\\';\\r\\n    width: 25px;\\r\\n    height: 20px;\\r\\n    background-color: #000;\\r\\n    display: block;\\r\\n    top: 1.5rem;\\r\\n    left: 0;\\r\\n    z-index: 9;\\r\\n    position: absolute;\\r\\n    font-size: 12px;\\r\\n    color: #fff;\\r\\n    text-transform: capitalize;\\r\\n    line-height: 1.75;\\r\\n    border-radius: 0 0.25rem 0.25rem 0;\\r\\n    text-align:center;\\r\\n}\\r\\n        footer a.tickerpremierleague {\\r\\n            color: #000 !important;\\r\\n        }\\r\\n        @media only screen and (max-width : 667px) {\\r\\n            .partner a:before{\\r\\n                width: 20px;\\r\\n    height: 15px;\\r\\n    border-radius: 0 0 0.25rem 0.25rem;\\r\\n    right: 2%;left:auto;\\r\\n    top:1rem;\\r\\n    z-index: 9;\\r\\n    font-size:10px;\\r\\n            }\\r\\n}\\r\\n    </style>\\r\\n\\r\\n<meta name=\"description\" content=\"Unlock the Power of Fundamental Stock Analysis: Financial Statements, Balance Sheet, Reports, and Ratios. Free forever.\" /><meta name=\"keywords\" content=\"financial statement analysis, fundamental analysis, ratio analysis, balance sheet analysis, company analysis, financial analysis, financial ratio analysis, financial ratios, fundamental analysis of stocks, share market analysis, stock analysis, stock analysis websites, stock market analysis\" /></head>\\r\\n<body class=\"homepage\">\\r\\n    <form method=\"post\" action=\"./\" id=\"frmTicker\">\\r\\n<input type=\"hidden\" name=\"__VIEWSTATE\" id=\"__VIEWSTATE\" value=\"0zJ4Js2O33P4lLVbOhRJ5tsepX26HDuuAuzhKZpVw/Vd2BhoAGoD8SbzRijFrjmtRZw+MnLNjy4Ih4imlkXLEou/P5Y=\" />\\r\\n\\r\\n<input type=\"hidden\" name=\"__VIEWSTATEGENERATOR\" id=\"__VIEWSTATEGENERATOR\" value=\"CA0B0334\" />\\r\\n<input type=\"hidden\" name=\"__EVENTVALIDATION\" id=\"__EVENTVALIDATION\" value=\"9NIoDPMDWbk1Tw/SvdwPxHYsbxjzdW01poYlnmeHom3XwKGGy2EdNnD7wAY9UYOJcR2QeNVgUHx1ZUR8OgoojJqYxKK85QkxAsu0LFrUc0a/o7lZ\" />\\r\\n        \\r\\n        <div class=\"masterbar\">\\r\\n            <div class=\"row no-gutters owl-carousel mobile-carousel\">\\r\\n                <div class=\"col-12 col-md-3 item\">\\r\\n                    <h6><a href=\"/market/index/bse/sensex\">SENSEX&nbsp;<span class=\\'badge badge-success ticker\\'>80519.34</span><span class=\\'text-success\\'>&nbsp;<i class=\\'fas fa-caret-up\\'></i>&nbsp;+<span class=\\'Number\\'>622.00</span> (+<span class=\\'Number\\'>0.78</span>%)</span></a></h6>\\r\\n                </div>\\r\\n                <div class=\"col-12 col-md-3 item\">\\r\\n                    <h6><a href=\"/market/index/nse/nifty\">NIFTY&nbsp;<span class=\\'badge badge-success ticker\\'>24502.15</span><span class=\\'text-success\\'>&nbsp;<i class=\\'fas fa-caret-up\\'></i>&nbsp;+<span class=\\'Number\\'>186.20</span> (+<span class=\\'Number\\'>0.77</span>%)</span></a></h6>\\r\\n                </div>\\r\\n                <div class=\"col-12 col-md-3 item\">\\r\\n                    <h6><a href=\"/market/index/nse/banknifty\">BANKNIFTY&nbsp;<span class=\\'badge badge-success ticker\\'>52278.90</span><span class=\\'text-success\\'>&nbsp;<i class=\\'fas fa-caret-up\\'></i>&nbsp;+<span class=\\'Number\\'>8.25</span> (+<span class=\\'Number\\'>0.02</span>%)</span></a></h6>\\r\\n                </div>\\r\\n\\r\\n                <div class=\"col-12 col-md-3 item\">\\r\\n                    <h6><a href=\"/market/index/nse/niftyit\">NIFTYIT&nbsp;<span class=\\'badge badge-success ticker\\'>39023.00</span><span class=\\'text-success\\'>&nbsp;<i class=\\'fas fa-caret-up\\'></i>&nbsp;+<span class=\\'Number\\'>1690.40</span> (+<span class=\\'Number\\'>4.53</span>%)</span></a></h6>\\r\\n                </div>\\r\\n            </div>\\r\\n        </div>\\r\\n\\r\\n        \\r\\n        <div id=\"dnav\" class=\"navbar navbar-expand-sm bsnav bsnav-sticky bsnav-sticky-slide homenav\">\\r\\n            <a class=\"navbar-brand\" href=\"/\">\\r\\n                <img src=\"https://assets.finology.in/ticker/images/tickerlogo.svg\" class=\"img-fluid\" loading=\"lazy\" />\\r\\n            </a>\\r\\n            <button type=\"button\" class=\"navbar-toggler toggler-spring\"><span class=\"navbar-toggler-icon\"></span></button>\\r\\n            <div class=\"collapse navbar-collapse justify-content-sm-end\">\\r\\n                <ul class=\"navbar-nav navbar-mobile mr-0 mt-5 mt-md-0\">\\r\\n                    <li class=\"nav-item\">\\r\\n                        <a class=\"nav-link\" href=\"/\">Home</a>\\r\\n                    </li>\\r\\n                    <li class=\"nav-item\">\\r\\n                        <a class=\"nav-link\" href=\"/market\">Market</a>\\r\\n                    </li>\\r\\n                    <li class=\"nav-item\">\\r\\n                        <a class=\"nav-link\" href=\"/IPO\">IPO</a>\\r\\n                    </li>\\r\\n                    <li class=\"nav-item\">\\r\\n                        <a class=\"nav-link\" href=\"/screener\">Screener</a>\\r\\n                    </li>\\r\\n\\r\\n                    <li class=\"nav-item\">\\r\\n                        <a class=\"nav-link\" href=\"/bundles\">Bundles</a>\\r\\n                    </li>\\r\\n                    <li class=\"nav-item\">\\r\\n                        <a class=\"nav-link\" href=\"/investor\">Super Investors</a>\\r\\n                    </li>\\r\\n                    <li class=\"nav-item\">\\r\\n                        <a class=\"nav-link\" href=\"/sector\">Sector</a>\\r\\n                    </li>\\r\\n                    <li class=\"nav-item\">\\r\\n                        <a class=\"nav-link\" href=\"/discover\">Discover</a>\\r\\n                    </li>\\r\\n\\r\\n                    \\r\\n                    <li class=\"nav-item\">\\r\\n                        <a class=\"nav-link tickerplus\" href=\"/tickerplus\"><i class=\"fas fa-crown\"></i>TickerPlus</a>\\r\\n                    </li>\\r\\n                    <li id=\"linavlogin\" class=\"nav-item\">\\r\\n                        <a class=\"nav-link login\" href=\"/login.aspx\"><i class=\"fas fa-lock\"></i>&nbsp;Account</a>\\r\\n                    </li>\\r\\n                </ul>\\r\\n                \\r\\n            </div>\\r\\n        </div>\\r\\n        \\r\\n        \\r\\n\\r\\n\\r\\n        <div class=\"clearfix\"></div>\\r\\n        \\r\\n        <section class=\"header\">\\r\\n            <div class=\"container-fluid\">\\r\\n                <div class=\"row no-gutters justify-content-center\">\\r\\n                    <div class=\"col-12 col-md-7\">\\r\\n                        <div class=\"searchcomp\">\\r\\n                            <h1>Investing Ka Search Engine</h1>\\r\\n                            <p>The Modern Stock Screener that helps you pick better stocks.</p>\\r\\n                            <div class=\"clearfix\"></div>\\r\\n                            <div class=\"form-group mt-3\">\\r\\n                                <input name=\"txtSearchComp\" autocomplete=\"off\" id=\"txtSearchComp\" class=\"form-control searchbox\" autofocus=\"\" type=\"search\" placeholder=\"Type a Company Name or Brand to Search\" />\\r\\n                                <div class=\"output\"></div>\\r\\n                            </div>\\r\\n                            <div class=\"clearfix\"></div>\\r\\n                            <div class=\"frequents\">\\r\\n                                <span class=\"font-weight-bold d-inline-block\">What\\'s Trending:</span>\\r\\n                                \\r\\n                                        <a title=\\'ITC\\' href=\\'company/ITC\\'>ITC</a>\\r\\n                                    \\r\\n                                        <a title=\\'Reliance Industries\\' href=\\'company/RELIANCE\\'>RELIANCE</a>\\r\\n                                    \\r\\n                                        <a title=\\'HDFC Bank\\' href=\\'company/HDFCBANK\\'>HDFCBANK</a>\\r\\n                                    \\r\\n                                        <a title=\\'IRCTC\\' href=\\'company/IRCTC\\'>IRCTC</a>\\r\\n                                    \\r\\n                                        <a title=\\'Yes Bank\\' href=\\'company/YESBANK\\'>YESBANK</a>\\r\\n                                    \\r\\n                            </div>\\r\\n                            <div class=\"clearfix\"></div>\\r\\n                            <div class=\"partner mt-4\">\\r\\n                                <a href=\"https://tinyurl.com/shoonyaticker\" target=\"_blank\" rel=\"noreferrer noopener\" class=\"d-block col-12 pt-3\">\\r\\n                                    <div class=\"row justify-content-start justify-content-md-center d-flex\">\\r\\n                                        <div class=\"d-none d-md-flex\">\\r\\n                                            <img class=\"img-fluid rounded\" src=\"https://assets.finology.in/ticker/images/shoonya-desktop.jpg?v=1\" />\\r\\n                                        </div>\\r\\n                                        <div class=\"d-flex d-md-none\">\\r\\n                                            <img class=\"img-fluid rounded\" src=\"https://assets.finology.in/ticker/images/shoonya-mobile.jpg?v=1\" />\\r\\n                                        </div>\\r\\n                                    </div>\\r\\n                                </a>\\r\\n                            </div>\\r\\n                        </div>\\r\\n                    </div>\\r\\n                </div>\\r\\n            </div>\\r\\n        </section>\\r\\n\\r\\n        <div class=\"clearfix\"></div>\\r\\n        <div class=\"content\">\\r\\n            \\r\\n            <div class=\"row\">\\r\\n                <a id=\"explore\"></a>\\r\\n                <div class=\"col-12\">\\r\\n                    <h2 class=\"sectionheading\">Market Movers</h2>\\r\\n                    <p class=\"sectiondesc\">Learn about Stock market updates today - Peek into Gainers, Losers, 52 Week Highs, 52 week Lows and more.</p>\\r\\n                </div>\\r\\n            </div>\\r\\n            <div class=\"row\">\\r\\n                <div class=\"col-12 col-md-6\">\\r\\n                    <div class=\"card cardscreen cardtab mb-5 mb-md-0\">\\r\\n                        <h4><i class=\"far fa-calendar-alt\"></i>&nbsp;52 Week High/Low\\r\\n                                <ul class=\"nav nav-pills mb-3\" id=\"pills-tab\" role=\"tablist\">\\r\\n                                    <li class=\"nav-item\">\\r\\n                                        <a class=\"nav-link active\" id=\"pills-high-tab\" data-toggle=\"pill\" href=\"#pills-high\" role=\"tab\" aria-controls=\"pills-dividend\" aria-selected=\"true\">High</a>\\r\\n                                    </li>\\r\\n                                    <li class=\"nav-item\">\\r\\n                                        <a class=\"nav-link\" id=\"pills-low-tab\" data-toggle=\"pill\" href=\"#pills-low\" role=\"tab\" aria-controls=\"pills-low\" aria-selected=\"false\">Low</a>\\r\\n                                    </li>\\r\\n                                </ul>\\r\\n                        </h4>\\r\\n                        <div class=\"tab-content\" id=\"pills-tabContent\">\\r\\n                            <div class=\"tab-pane fade show active\" id=\"pills-high\" role=\"tabpanel\" aria-labelledby=\"pills-high-tab\">\\r\\n                                <div class=\"table-responsive-sm\">\\r\\n                                    <table class=\"table table-sm table-hover screenertable\">\\r\\n                                        <thead>\\r\\n                                            <tr>\\r\\n                                                <th scope=\"col\">Company</th>\\r\\n                                                <th scope=\"col\">Price<span class=\"muted\">Rs.</span></th>\\r\\n                                                <th scope=\"col\">Day High<span class=\"muted\">Rs.</span></th>\\r\\n                                            </tr>\\r\\n                                        </thead>\\r\\n                                        <tbody>\\r\\n                                            \\r\\n                                            \\r\\n                                                    <tr>\\r\\n                                                        <td>\\r\\n                                                            <a class=\"complink\" href=\\'company/IRFC\\'>Indian Railway Finance</a>\\r\\n                                                        </td>\\r\\n                                                        <td class=\"Number\">217.43</td>\\r\\n                                                        <td class=\"Number\">224.40</td>\\r\\n                                                    </tr>\\r\\n                                                \\r\\n                                                    <tr>\\r\\n                                                        <td>\\r\\n                                                            <a class=\"complink\" href=\\'company/IREDA\\'>Indian Ren. Energy</a>\\r\\n                                                        </td>\\r\\n                                                        <td class=\"Number\">284.26</td>\\r\\n                                                        <td class=\"Number\">304.50</td>\\r\\n                                                    </tr>\\r\\n                                                \\r\\n                                                    <tr>\\r\\n                                                        <td>\\r\\n                                                            <a class=\"complink\" href=\\'company/RAILTEL\\'>Railtel Corporation Of India Ltd.</a>\\r\\n                                                        </td>\\r\\n                                                        <td class=\"Number\">596.90</td>\\r\\n                                                        <td class=\"Number\">617.80</td>\\r\\n                                                    </tr>\\r\\n                                                \\r\\n                                                    <tr>\\r\\n                                                        <td>\\r\\n                                                            <a class=\"complink\" href=\\'company/RVNL\\'>Rail Vikas Nigam</a>\\r\\n                                                        </td>\\r\\n                                                        <td class=\"Number\">626.75</td>\\r\\n                                                        <td class=\"Number\">645.00</td>\\r\\n                                                    </tr>\\r\\n                                                \\r\\n                                                    <tr>\\r\\n                                                        <td>\\r\\n                                                            <a class=\"complink\" href=\\'company/IRCON\\'>Ircon International</a>\\r\\n                                                        </td>\\r\\n                                                        <td class=\"Number\">336.80</td>\\r\\n                                                        <td class=\"Number\">349.45</td>\\r\\n                                                    </tr>\\r\\n                                                \\r\\n                                                    <tr>\\r\\n                                                        <td>\\r\\n                                                            <a class=\"complink\" href=\\'company/SCI\\'>Shipping Corpn.</a>\\r\\n                                                        </td>\\r\\n                                                        <td class=\"Number\">345.65</td>\\r\\n                                                        <td class=\"Number\">384.20</td>\\r\\n                                                    </tr>\\r\\n                                                \\r\\n                                                    <tr>\\r\\n                                                        <td>\\r\\n                                                            <a class=\"complink\" href=\\'company/OIL\\'>Oil India</a>\\r\\n                                                        </td>\\r\\n                                                        <td class=\"Number\">614.45</td>\\r\\n                                                        <td class=\"Number\">653.00</td>\\r\\n                                                    </tr>\\r\\n                                                \\r\\n                                                    <tr>\\r\\n                                                        <td>\\r\\n                                                            <a class=\"complink\" href=\\'company/WIPRO\\'>Wipro</a>\\r\\n                                                        </td>\\r\\n                                                        <td class=\"Number\">560.15</td>\\r\\n                                                        <td class=\"Number\">564.80</td>\\r\\n                                                    </tr>\\r\\n                                                \\r\\n                                                    <tr>\\r\\n                                                        <td>\\r\\n                                                            <a class=\"complink\" href=\\'company/AXISBANK\\'>Axis Bank</a>\\r\\n                                                        </td>\\r\\n                                                        <td class=\"Number\">1317.30</td>\\r\\n                                                        <td class=\"Number\">1339.65</td>\\r\\n                                                    </tr>\\r\\n                                                \\r\\n                                                    <tr>\\r\\n                                                        <td>\\r\\n                                                            <a class=\"complink\" href=\\'company/HUDCO\\'>Housing & Urban Dev.</a>\\r\\n                                                        </td>\\r\\n                                                        <td class=\"Number\">334.00</td>\\r\\n                                                        <td class=\"Number\">353.70</td>\\r\\n                                                    </tr>\\r\\n                                                \\r\\n                                                    <tr>\\r\\n                                                        <td>\\r\\n                                                            <a class=\"complink\" href=\\'company/IFCI\\'>IFCI</a>\\r\\n                                                        </td>\\r\\n                                                        <td class=\"Number\">69.57</td>\\r\\n                                                        <td class=\"Number\">72.00</td>\\r\\n                                                    </tr>\\r\\n                                                \\r\\n                                                    <tr>\\r\\n                                                        <td>\\r\\n                                                            <a class=\"complink\" href=\\'company/KPITTECH\\'>KPIT Technologies</a>\\r\\n                                                        </td>\\r\\n                                                        <td class=\"Number\">1865.55</td>\\r\\n                                                        <td class=\"Number\">1928.70</td>\\r\\n                                                    </tr>\\r\\n                                                \\r\\n                                                    <tr>\\r\\n                                                        <td>\\r\\n                                                            <a class=\"complink\" href=\\'company/ZOMATO\\'>Zomato</a>\\r\\n                                                        </td>\\r\\n                                                        <td class=\"Number\">222.47</td>\\r\\n                                                        <td class=\"Number\">223.25</td>\\r\\n                                                    </tr>\\r\\n                                                \\r\\n                                                    <tr>\\r\\n                                                        <td>\\r\\n                                                            <a class=\"complink\" href=\\'company/ONGC\\'>ONGC</a>\\r\\n                                                        </td>\\r\\n                                                        <td class=\"Number\">307.10</td>\\r\\n                                                        <td class=\"Number\">311.75</td>\\r\\n                                                    </tr>\\r\\n                                                \\r\\n                                                    <tr>\\r\\n                                                        <td>\\r\\n                                                            <a class=\"complink\" href=\\'company/ENGINERSIN\\'>Engineers India</a>\\r\\n                                                        </td>\\r\\n                                                        <td class=\"Number\">287.95</td>\\r\\n                                                        <td class=\"Number\">303.90</td>\\r\\n                                                    </tr>\\r\\n                                                \\r\\n                                        </tbody>\\r\\n                                    </table>\\r\\n                                </div>\\r\\n                                <a class=\"text-center mt-3 d-block\" href=\"market/52-week-high\">View All 52 Week High</a>\\r\\n                            </div>\\r\\n                            <div class=\"tab-pane fade\" id=\"pills-low\" role=\"tabpanel\" aria-labelledby=\"pills-low-tab\">\\r\\n                                <div class=\"table-responsive-sm\">\\r\\n                                    <table class=\"table table-sm table-hover screenertable\">\\r\\n                                        <thead>\\r\\n                                            <tr>\\r\\n                                                <th scope=\"col\">Company</th>\\r\\n                                                <th scope=\"col\">Price<span class=\"muted\">Rs.</span></th>\\r\\n                                                <th scope=\"col\">Day Low<span class=\"muted\">Rs.</span></th>\\r\\n                                            </tr>\\r\\n                                        </thead>\\r\\n                                        <tbody>\\r\\n                                            \\r\\n                                            \\r\\n                                                    <tr>\\r\\n                                                        <td><a class=\"complink\" href=\\'company/JPASSOCIAT\\'>JP Associate</a></td>\\r\\n                                                        <td class=\"Number\">7.07</td>\\r\\n                                                        <td class=\"Number\">7.07</td>\\r\\n                                                    </tr>\\r\\n                                                \\r\\n                                                    <tr>\\r\\n                                                        <td><a class=\"complink\" href=\\'company/SCRIP-211642\\'>Chandra Bhagat Pharm</a></td>\\r\\n                                                        <td class=\"Number\">64.92</td>\\r\\n                                                        <td class=\"Number\">63.00</td>\\r\\n                                                    </tr>\\r\\n                                                \\r\\n                                                    <tr>\\r\\n                                                        <td><a class=\"complink\" href=\\'company/SPICEJET\\'>SpiceJet</a></td>\\r\\n                                                        <td class=\"Number\">31.70</td>\\r\\n                                                        <td class=\"Number\">31.05</td>\\r\\n                                                    </tr>\\r\\n                                                \\r\\n                                                    <tr>\\r\\n                                                        <td><a class=\"complink\" href=\\'company/KENNAMET\\'>Kennametal India</a></td>\\r\\n                                                        <td class=\"Number\">2476.10</td>\\r\\n                                                        <td class=\"Number\">2412.35</td>\\r\\n                                                    </tr>\\r\\n                                                \\r\\n                                                    <tr>\\r\\n                                                        <td><a class=\"complink\" href=\\'company/LANCER\\'>Lancer Container</a></td>\\r\\n                                                        <td class=\"Number\">49.90</td>\\r\\n                                                        <td class=\"Number\">49.20</td>\\r\\n                                                    </tr>\\r\\n                                                \\r\\n                                                    <tr>\\r\\n                                                        <td><a class=\"complink\" href=\\'company/GOODYEAR\\'>Goodyear India</a></td>\\r\\n                                                        <td class=\"Number\">1273.70</td>\\r\\n                                                        <td class=\"Number\">1255.25</td>\\r\\n                                                    </tr>\\r\\n                                                \\r\\n                                                    <tr>\\r\\n                                                        <td><a class=\"complink\" href=\\'company/SCRIP-313352\\'>United Cotfab</a></td>\\r\\n                                                        <td class=\"Number\">72.42</td>\\r\\n                                                        <td class=\"Number\">71.80</td>\\r\\n                                                    </tr>\\r\\n                                                \\r\\n                                                    <tr>\\r\\n                                                        <td><a class=\"complink\" href=\\'company/SMLT\\'>Sarthak Metals</a></td>\\r\\n                                                        <td class=\"Number\">188.47</td>\\r\\n                                                        <td class=\"Number\">188.00</td>\\r\\n                                                    </tr>\\r\\n                                                \\r\\n                                                    <tr>\\r\\n                                                        <td><a class=\"complink\" href=\\'company/NOVARTIND\\'>Novartis</a></td>\\r\\n                                                        <td class=\"Number\">672.25</td>\\r\\n                                                        <td class=\"Number\">668.35</td>\\r\\n                                                    </tr>\\r\\n                                                \\r\\n                                                    <tr>\\r\\n                                                        <td><a class=\"complink\" href=\\'company/SCRIP-314380\\'>Purple Finance</a></td>\\r\\n                                                        <td class=\"Number\">78.50</td>\\r\\n                                                        <td class=\"Number\">76.00</td>\\r\\n                                                    </tr>\\r\\n                                                \\r\\n                                                    <tr>\\r\\n                                                        <td><a class=\"complink\" href=\\'company/FALCONTECH\\'>Falcon Technoproject</a></td>\\r\\n                                                        <td class=\"Number\">73.70</td>\\r\\n                                                        <td class=\"Number\">72.00</td>\\r\\n                                                    </tr>\\r\\n                                                \\r\\n                                                    <tr>\\r\\n                                                        <td><a class=\"complink\" href=\\'company/SCRIP-314164\\'>3C IT Solutions</a></td>\\r\\n                                                        <td class=\"Number\">36.91</td>\\r\\n                                                        <td class=\"Number\">36.81</td>\\r\\n                                                    </tr>\\r\\n                                                \\r\\n                                                    <tr>\\r\\n                                                        <td><a class=\"complink\" href=\\'company/BAWEJA\\'>Baweja Studios</a></td>\\r\\n                                                        <td class=\"Number\">81.25</td>\\r\\n                                                        <td class=\"Number\">80.60</td>\\r\\n                                                    </tr>\\r\\n                                                \\r\\n                                                    <tr>\\r\\n                                                        <td><a class=\"complink\" href=\\'company/WATERBASE\\'>Waterbase</a></td>\\r\\n                                                        <td class=\"Number\">74.90</td>\\r\\n                                                        <td class=\"Number\">73.75</td>\\r\\n                                                    </tr>\\r\\n                                                \\r\\n                                                    <tr>\\r\\n                                                        <td><a class=\"complink\" href=\\'company/SECURCRED\\'>SecUR Credentials</a></td>\\r\\n                                                        <td class=\"Number\">9.35</td>\\r\\n                                                        <td class=\"Number\">9.35</td>\\r\\n                                                    </tr>\\r\\n                                                \\r\\n                                        </tbody>\\r\\n                                    </table>\\r\\n                                </div>\\r\\n                                <a class=\"text-center mt-3 d-block\" href=\"market/52-week-low\">View All 52 Week Low</a>\\r\\n                            </div>\\r\\n                        </div>\\r\\n                    </div>\\r\\n                </div>\\r\\n\\r\\n                <div class=\"col-12 col-md-6\">\\r\\n                    <div class=\"card cardscreen cardtab\">\\r\\n                        <h4><i class=\"fas fa-sort\"></i>&nbsp;Today\\'s Gainer / Loser\\r\\n\\r\\n                                <ul class=\"nav nav-pills mb-3\" id=\"pills-tab-gl\" role=\"tablist\">\\r\\n                                    <li class=\"nav-item\">\\r\\n                                        <a class=\"nav-link active\" id=\"pills-gainer-tab\" data-toggle=\"pill\" href=\"#pills-gainer\" role=\"tab\" aria-controls=\"pills-gainer\" aria-selected=\"true\">Gainer</a>\\r\\n                                    </li>\\r\\n                                    <li class=\"nav-item\">\\r\\n                                        <a class=\"nav-link\" id=\"pills-loser-tab\" data-toggle=\"pill\" href=\"#pills-loser\" role=\"tab\" aria-controls=\"pills-loser\" aria-selected=\"false\">Loser</a>\\r\\n                                    </li>\\r\\n                                </ul>\\r\\n                        </h4>\\r\\n                        <div class=\"tab-content\" id=\"pills-tabContent-gl\">\\r\\n                            <div class=\"tab-pane fade show active\" id=\"pills-gainer\" role=\"tabpanel\" aria-labelledby=\"pills-gainer-tab\">\\r\\n                                <div class=\"table-responsive-sm\">\\r\\n                                    <table class=\"table table-sm table-hover screenertable\">\\r\\n                                        <thead>\\r\\n                                            <tr>\\r\\n                                                <th scope=\"col\">Company</th>\\r\\n                                                <th scope=\"col\">price<span class=\"muted\">Rs.</span></th>\\r\\n                                                <th scope=\"col\">Change<span class=\"muted\">%</span></th>\\r\\n                                            </tr>\\r\\n                                        </thead>\\r\\n                                        <tbody>\\r\\n                                            \\r\\n                                            \\r\\n                                                    <tr>\\r\\n                                                        <td>\\r\\n                                                            <a class=\"complink\" href=\\'company/GPECO\\'>GP Eco Solutions</a>\\r\\n                                                        </td>\\r\\n                                                        \\r\\n                                                        <td class=\"Number\">440.40</td>\\r\\n                                                        <td><span class=\"text-green gainloss\">+20%</span></td>\\r\\n                                                    </tr>\\r\\n                                                \\r\\n                                                    <tr>\\r\\n                                                        <td>\\r\\n                                                            <a class=\"complink\" href=\\'company/MEGASTAR\\'>Megastar Foods</a>\\r\\n                                                        </td>\\r\\n                                                        \\r\\n                                                        <td class=\"Number\">334.05</td>\\r\\n                                                        <td><span class=\"text-green gainloss\">+19.99%</span></td>\\r\\n                                                    </tr>\\r\\n                                                \\r\\n                                                    <tr>\\r\\n                                                        <td>\\r\\n                                                            <a class=\"complink\" href=\\'company/ACSAL\\'>Arvind Ship Agencies</a>\\r\\n                                                        </td>\\r\\n                                                        \\r\\n                                                        <td class=\"Number\">72.75</td>\\r\\n                                                        <td><span class=\"text-green gainloss\">+19.95%</span></td>\\r\\n                                                    </tr>\\r\\n                                                \\r\\n                                                    <tr>\\r\\n                                                        <td>\\r\\n                                                            <a class=\"complink\" href=\\'company/AMJLAND\\'>AMJ Land Holdings</a>\\r\\n                                                        </td>\\r\\n                                                        \\r\\n                                                        <td class=\"Number\">57.05</td>\\r\\n                                                        <td><span class=\"text-green gainloss\">+14.79%</span></td>\\r\\n                                                    </tr>\\r\\n                                                \\r\\n                                                    <tr>\\r\\n                                                        <td>\\r\\n                                                            <a class=\"complink\" href=\\'company/RAILTEL\\'>Railtel Corporation Of India Ltd.</a>\\r\\n                                                        </td>\\r\\n                                                        \\r\\n                                                        <td class=\"Number\">596.90</td>\\r\\n                                                        <td><span class=\"text-green gainloss\">+14.76%</span></td>\\r\\n                                                    </tr>\\r\\n                                                \\r\\n                                                    <tr>\\r\\n                                                        <td>\\r\\n                                                            <a class=\"complink\" href=\\'company/LOTUSEYE\\'>Lotus Eye Hospital</a>\\r\\n                                                        </td>\\r\\n                                                        \\r\\n                                                        <td class=\"Number\">67.61</td>\\r\\n                                                        <td><span class=\"text-green gainloss\">+14.67%</span></td>\\r\\n                                                    </tr>\\r\\n                                                \\r\\n                                                    <tr>\\r\\n                                                        <td>\\r\\n                                                            <a class=\"complink\" href=\\'company/SONATSOFTW\\'>Sonata Software</a>\\r\\n                                                        </td>\\r\\n                                                        \\r\\n                                                        <td class=\"Number\">710.50</td>\\r\\n                                                        <td><span class=\"text-green gainloss\">+13.76%</span></td>\\r\\n                                                    </tr>\\r\\n                                                \\r\\n                                                    <tr>\\r\\n                                                        <td>\\r\\n                                                            <a class=\"complink\" href=\\'company/MUKKA\\'>Mukka Proteins</a>\\r\\n                                                        </td>\\r\\n                                                        \\r\\n                                                        <td class=\"Number\">39.29</td>\\r\\n                                                        <td><span class=\"text-green gainloss\">+13.23%</span></td>\\r\\n                                                    </tr>\\r\\n                                                \\r\\n                                                    <tr>\\r\\n                                                        <td>\\r\\n                                                            <a class=\"complink\" href=\\'company/HPL\\'>HPL Electric</a>\\r\\n                                                        </td>\\r\\n                                                        \\r\\n                                                        <td class=\"Number\">633.25</td>\\r\\n                                                        <td><span class=\"text-green gainloss\">+12.6%</span></td>\\r\\n                                                    </tr>\\r\\n                                                \\r\\n                                                    <tr>\\r\\n                                                        <td>\\r\\n                                                            <a class=\"complink\" href=\\'company/IFCI\\'>IFCI</a>\\r\\n                                                        </td>\\r\\n                                                        \\r\\n                                                        <td class=\"Number\">69.57</td>\\r\\n                                                        <td><span class=\"text-green gainloss\">+12.05%</span></td>\\r\\n                                                    </tr>\\r\\n                                                \\r\\n                                                    <tr>\\r\\n                                                        <td>\\r\\n                                                            <a class=\"complink\" href=\\'company/CANTABIL\\'>Cantabil Retail</a>\\r\\n                                                        </td>\\r\\n                                                        \\r\\n                                                        <td class=\"Number\">290.65</td>\\r\\n                                                        <td><span class=\"text-green gainloss\">+11.93%</span></td>\\r\\n                                                    </tr>\\r\\n                                                \\r\\n                                                    <tr>\\r\\n                                                        <td>\\r\\n                                                            <a class=\"complink\" href=\\'company/OIL\\'>Oil India</a>\\r\\n                                                        </td>\\r\\n                                                        \\r\\n                                                        <td class=\"Number\">614.45</td>\\r\\n                                                        <td><span class=\"text-green gainloss\">+11.52%</span></td>\\r\\n                                                    </tr>\\r\\n                                                \\r\\n                                                    <tr>\\r\\n                                                        <td>\\r\\n                                                            <a class=\"complink\" href=\\'company/PROZONER\\'>Prozone Realty</a>\\r\\n                                                        </td>\\r\\n                                                        \\r\\n                                                        <td class=\"Number\">32.70</td>\\r\\n                                                        <td><span class=\"text-green gainloss\">+11.22%</span></td>\\r\\n                                                    </tr>\\r\\n                                                \\r\\n                                                    <tr>\\r\\n                                                        <td>\\r\\n                                                            <a class=\"complink\" href=\\'company/ONWARDTEC\\'>Onward Technologies</a>\\r\\n                                                        </td>\\r\\n                                                        \\r\\n                                                        <td class=\"Number\">455.55</td>\\r\\n                                                        <td><span class=\"text-green gainloss\">+10.52%</span></td>\\r\\n                                                    </tr>\\r\\n                                                \\r\\n                                                    <tr>\\r\\n                                                        <td>\\r\\n                                                            <a class=\"complink\" href=\\'company/ESSARSHPNG\\'>Essar Shipping</a>\\r\\n                                                        </td>\\r\\n                                                        \\r\\n                                                        <td class=\"Number\">61.95</td>\\r\\n                                                        <td><span class=\"text-green gainloss\">+10%</span></td>\\r\\n                                                    </tr>\\r\\n                                                \\r\\n                                        </tbody>\\r\\n                                    </table>\\r\\n                                </div>\\r\\n                                <a class=\"text-center mt-3 d-block\" href=\"market/top-gainers\">View All Gainers</a>\\r\\n                            </div>\\r\\n                            <div class=\"tab-pane fade\" id=\"pills-loser\" role=\"tabpanel\" aria-labelledby=\"pills-loser-tab\">\\r\\n                                <div class=\"table-responsive-sm\">\\r\\n                                    <table class=\"table table-sm table-hover screenertable\">\\r\\n                                        <thead>\\r\\n                                            <tr>\\r\\n                                                <th scope=\"col\">Company</th>\\r\\n                                                <th scope=\"col\">price<span class=\"muted\">Rs.</span></th>\\r\\n                                                <th scope=\"col\">Change<span class=\"muted\">%</span></th>\\r\\n                                            </tr>\\r\\n                                        </thead>\\r\\n                                        <tbody>\\r\\n                                            \\r\\n                                            \\r\\n                                                    <tr>\\r\\n                                                        <td>\\r\\n                                                            <a class=\"complink\" href=\\'Company/GEPIL\\'>GE Power India</a>\\r\\n\\r\\n                                                        </td>\\r\\n                                                        <td class=\"Number\">571.45</td>\\r\\n                                                        <td><span class=\"text-red gainloss\">-9.99%</span></td>\\r\\n                                                    </tr>\\r\\n                                                \\r\\n                                                    <tr>\\r\\n                                                        <td>\\r\\n                                                            <a class=\"complink\" href=\\'Company/KTIL\\'>Kesar Terminal&Infra</a>\\r\\n\\r\\n                                                        </td>\\r\\n                                                        <td class=\"Number\">35.45</td>\\r\\n                                                        <td><span class=\"text-red gainloss\">-9.91%</span></td>\\r\\n                                                    </tr>\\r\\n                                                \\r\\n                                                    <tr>\\r\\n                                                        <td>\\r\\n                                                            <a class=\"complink\" href=\\'Company/WINNY\\'>Winny Imm & Edu Ser</a>\\r\\n\\r\\n                                                        </td>\\r\\n                                                        <td class=\"Number\">309.80</td>\\r\\n                                                        <td><span class=\"text-red gainloss\">-9.53%</span></td>\\r\\n                                                    </tr>\\r\\n                                                \\r\\n                                                    <tr>\\r\\n                                                        <td>\\r\\n                                                            <a class=\"complink\" href=\\'Company/IPSL\\'>Integrated Personnel</a>\\r\\n\\r\\n                                                        </td>\\r\\n                                                        <td class=\"Number\">161.20</td>\\r\\n                                                        <td><span class=\"text-red gainloss\">-9.44%</span></td>\\r\\n                                                    </tr>\\r\\n                                                \\r\\n                                                    <tr>\\r\\n                                                        <td>\\r\\n                                                            <a class=\"complink\" href=\\'Company/MALLCOM\\'>Mallcom</a>\\r\\n\\r\\n                                                        </td>\\r\\n                                                        <td class=\"Number\">1421.85</td>\\r\\n                                                        <td><span class=\"text-red gainloss\">-7.4%</span></td>\\r\\n                                                    </tr>\\r\\n                                                \\r\\n                                                    <tr>\\r\\n                                                        <td>\\r\\n                                                            <a class=\"complink\" href=\\'Company/SIGNORIA\\'>Signoria Creation</a>\\r\\n\\r\\n                                                        </td>\\r\\n                                                        <td class=\"Number\">148.80</td>\\r\\n                                                        <td><span class=\"text-red gainloss\">-7%</span></td>\\r\\n                                                    </tr>\\r\\n                                                \\r\\n                                                    <tr>\\r\\n                                                        <td>\\r\\n                                                            <a class=\"complink\" href=\\'Company/SURAJEST\\'>Suraj Estate Develop</a>\\r\\n\\r\\n                                                        </td>\\r\\n                                                        <td class=\"Number\">597.00</td>\\r\\n                                                        <td><span class=\"text-red gainloss\">-6.65%</span></td>\\r\\n                                                    </tr>\\r\\n                                                \\r\\n                                                    <tr>\\r\\n                                                        <td>\\r\\n                                                            <a class=\"complink\" href=\\'Company/PRECOT\\'>Precot</a>\\r\\n\\r\\n                                                        </td>\\r\\n                                                        <td class=\"Number\">501.20</td>\\r\\n                                                        <td><span class=\"text-red gainloss\">-6.29%</span></td>\\r\\n                                                    </tr>\\r\\n                                                \\r\\n                                                    <tr>\\r\\n                                                        <td>\\r\\n                                                            <a class=\"complink\" href=\\'Company/GODIGIT\\'>Go Digit General Ins</a>\\r\\n\\r\\n                                                        </td>\\r\\n                                                        <td class=\"Number\">341.80</td>\\r\\n                                                        <td><span class=\"text-red gainloss\">-6.21%</span></td>\\r\\n                                                    </tr>\\r\\n                                                \\r\\n                                                    <tr>\\r\\n                                                        <td>\\r\\n                                                            <a class=\"complink\" href=\\'Company/ATULAUTO\\'>Atul Auto</a>\\r\\n\\r\\n                                                        </td>\\r\\n                                                        <td class=\"Number\">735.70</td>\\r\\n                                                        <td><span class=\"text-red gainloss\">-6.21%</span></td>\\r\\n                                                    </tr>\\r\\n                                                \\r\\n                                                    <tr>\\r\\n                                                        <td>\\r\\n                                                            <a class=\"complink\" href=\\'Company/KCPSUGIND\\'>KCP Sugar&Inds. Corp</a>\\r\\n\\r\\n                                                        </td>\\r\\n                                                        <td class=\"Number\">51.12</td>\\r\\n                                                        <td><span class=\"text-red gainloss\">-6.2%</span></td>\\r\\n                                                    </tr>\\r\\n                                                \\r\\n                                                    <tr>\\r\\n                                                        <td>\\r\\n                                                            <a class=\"complink\" href=\\'Company/RPPINFRA\\'>RPP Infra Projects</a>\\r\\n\\r\\n                                                        </td>\\r\\n                                                        <td class=\"Number\">163.22</td>\\r\\n                                                        <td><span class=\"text-red gainloss\">-6.17%</span></td>\\r\\n                                                    </tr>\\r\\n                                                \\r\\n                                                    <tr>\\r\\n                                                        <td>\\r\\n                                                            <a class=\"complink\" href=\\'Company/EMKAYTOOLS\\'>Emkay Taps & Cutting</a>\\r\\n\\r\\n                                                        </td>\\r\\n                                                        <td class=\"Number\">883.70</td>\\r\\n                                                        <td><span class=\"text-red gainloss\">-5.99%</span></td>\\r\\n                                                    </tr>\\r\\n                                                \\r\\n                                                    <tr>\\r\\n                                                        <td>\\r\\n                                                            <a class=\"complink\" href=\\'Company/LOYALTEX\\'>Loyal Textile Mills</a>\\r\\n\\r\\n                                                        </td>\\r\\n                                                        <td class=\"Number\">560.00</td>\\r\\n                                                        <td><span class=\"text-red gainloss\">-5.83%</span></td>\\r\\n                                                    </tr>\\r\\n                                                \\r\\n                                                    <tr>\\r\\n                                                        <td>\\r\\n                                                            <a class=\"complink\" href=\\'Company/PFOCUS\\'>Prime Focus</a>\\r\\n\\r\\n                                                        </td>\\r\\n                                                        <td class=\"Number\">134.98</td>\\r\\n                                                        <td><span class=\"text-red gainloss\">-5.73%</span></td>\\r\\n                                                    </tr>\\r\\n                                                \\r\\n                                        </tbody>\\r\\n                                    </table>\\r\\n                                </div>\\r\\n                                <a class=\"text-center mt-3 d-block\" href=\"market/top-losers\">View All Losers</a>\\r\\n                            </div>\\r\\n                        </div>\\r\\n\\r\\n                    </div>\\r\\n                </div>\\r\\n\\r\\n            </div>\\r\\n\\r\\n            \\r\\n            <div class=\"row\">\\r\\n                <div class=\"col-12\">\\r\\n                    <h2 class=\"sectionheading\">Featured Bundles\\r\\n                    </h2>\\r\\n                    <p class=\"sectiondesc\">Look into our professionally crafted bundles to get started with investment Strategies.</p>\\r\\n                </div>\\r\\n            </div>\\r\\n            <div class=\"row bundlerow\">\\r\\n                \\r\\n                        <div class=\"col-12 col-md-3\">\\r\\n                            <a class=\"bundlelink\" href=\\'App/Bundles/efficient-banks\\'>\\r\\n                                <div class=\"card cardscreen cardsmall\">\\r\\n                                    <img src=\\'https://d3po6s2ufk88fh.cloudfront.net/450x300/Ticker/324d18008b9240338acc896571891c26.jpg\\' class=\"card-img-top\" alt=\\'Efficient Banks\\' title=\\'Efficient Banks\\' loading=\"lazy\" />\\r\\n                                    <div class=\"card-body\">\\r\\n                                        <h5 class=\"text-center\">Efficient Banks</h5>\\r\\n                                        <p class=\"text-center\">\\r\\n\\r\\n                                            Banks that are efficient in their operation.\\r\\n                                        </p>\\r\\n                                        <span class=\"btn btn-primary btn-sm d-block w-60 mx-auto\">Access</span>\\r\\n                                    </div>\\r\\n                                </div>\\r\\n                            </a>\\r\\n                        </div>\\r\\n                    \\r\\n                        <div class=\"col-12 col-md-3\">\\r\\n                            <a class=\"bundlelink\" href=\\'App/Bundles/rising-stars\\'>\\r\\n                                <div class=\"card cardscreen cardsmall\">\\r\\n                                    <img src=\\'https://d3po6s2ufk88fh.cloudfront.net/450x300/Ticker/19556c0776e84fdb878cd54d266fc1a8.jpg\\' class=\"card-img-top\" alt=\\'Rising stars\\' title=\\'Rising stars\\' loading=\"lazy\" />\\r\\n                                    <div class=\"card-body\">\\r\\n                                        <h5 class=\"text-center\">Rising stars</h5>\\r\\n                                        <p class=\"text-center\">\\r\\n\\r\\n                                            Microcap companies aiming to reach the stars.\\r\\n                                        </p>\\r\\n                                        <span class=\"btn btn-primary btn-sm d-block w-60 mx-auto\">Access</span>\\r\\n                                    </div>\\r\\n                                </div>\\r\\n                            </a>\\r\\n                        </div>\\r\\n                    \\r\\n                        <div class=\"col-12 col-md-3\">\\r\\n                            <a class=\"bundlelink\" href=\\'App/Bundles/debt-independent\\'>\\r\\n                                <div class=\"card cardscreen cardsmall\">\\r\\n                                    <img src=\\'https://d3po6s2ufk88fh.cloudfront.net/450x300/Ticker/6f0c2e10a9d74c6184d99888959560fe.jpg\\' class=\"card-img-top\" alt=\\'Debt Independent\\' title=\\'Debt Independent\\' loading=\"lazy\" />\\r\\n                                    <div class=\"card-body\">\\r\\n                                        <h5 class=\"text-center\">Debt Independent</h5>\\r\\n                                        <p class=\"text-center\">\\r\\n\\r\\n                                            Companies that are virtually debt-free.\\r\\n                                        </p>\\r\\n                                        <span class=\"btn btn-primary btn-sm d-block w-60 mx-auto\">Access</span>\\r\\n                                    </div>\\r\\n                                </div>\\r\\n                            </a>\\r\\n                        </div>\\r\\n                    \\r\\n                        <div class=\"col-12 col-md-3\">\\r\\n                            <a class=\"bundlelink\" href=\\'App/Bundles/institution-fav\\'>\\r\\n                                <div class=\"card cardscreen cardsmall\">\\r\\n                                    <img src=\\'https://d3po6s2ufk88fh.cloudfront.net/450x300/Ticker/77099e0adbb34fb8bcbd476ed2e39768.jpg\\' class=\"card-img-top\" alt=\\'Institution fav\\' title=\\'Institution fav\\' loading=\"lazy\" />\\r\\n                                    <div class=\"card-body\">\\r\\n                                        <h5 class=\"text-center\">Institution fav</h5>\\r\\n                                        <p class=\"text-center\">\\r\\n\\r\\n                                            Companies backed by increasing institutional holdings.\\r\\n                                        </p>\\r\\n                                        <span class=\"btn btn-primary btn-sm d-block w-60 mx-auto\">Access</span>\\r\\n                                    </div>\\r\\n                                </div>\\r\\n                            </a>\\r\\n                        </div>\\r\\n                    \\r\\n            </div>\\r\\n            <div class=\"row mt-5\">\\r\\n                <div class=\"col-12 text-center\">\\r\\n                    <a class=\"btn btn-link\" href=\"/bundles\">View All Bundles</a>\\r\\n                </div>\\r\\n            </div>\\r\\n\\r\\n            \\r\\n            <div class=\"row\">\\r\\n                <div class=\"col-12\">\\r\\n                    <h2 class=\"sectionheading\">Curated News</h2>\\r\\n                    <p class=\"sectiondesc\">Get all the latest share market and India stock market news and updates.</p>\\r\\n                </div>\\r\\n            </div>\\r\\n            <div class=\"row\">\\r\\n                <div class=\"col-12 col-md-4\">\\r\\n                    <div class=\"card cardscreen\">\\r\\n                        <h4><i class=\"fas fa-rupee-sign\"></i>&nbsp;Economy News</h4>\\r\\n                        <div id=\"divNews1\">\\r\\n                            \\r\\n                                    <a id=\"btnDetails\" href=\"#\" data-toggle=\"modal\" data-target=\"#ModalNewsDetails\" data-details=\\'1104807\\' data-secname=\\'ECONOMY\\'\\r\\n                                        data-subsecname=\\'INDUSTRY AND MARKET-RELATED ANNOUNCEMENTS\\' data-fincode=\\'0\\' class=\"newslink\"><span class=\"h6\">Indian auto component industry to see moderate growth this fiscal: ICRA</span><small> 12 Jul, 9:54 AM</small></a>\\r\\n                                \\r\\n                                    <a id=\"btnDetails\" href=\"#\" data-toggle=\"modal\" data-target=\"#ModalNewsDetails\" data-details=\\'1104835\\' data-secname=\\'ECONOMY\\'\\r\\n                                        data-subsecname=\\'INDUSTRY AND MARKET-RELATED ANNOUNCEMENTS\\' data-fincode=\\'0\\' class=\"newslink\"><span class=\"h6\">Exploration & Production sector offers investment opportunities worth $100 billion by 2030: Puri</span><small> 12 Jul, 10:52 AM</small></a>\\r\\n                                \\r\\n                                    <a id=\"btnDetails\" href=\"#\" data-toggle=\"modal\" data-target=\"#ModalNewsDetails\" data-details=\\'1104838\\' data-secname=\\'ECONOMY\\'\\r\\n                                        data-subsecname=\\'INDUSTRY AND MARKET-RELATED ANNOUNCEMENTS\\' data-fincode=\\'0\\' class=\"newslink\"><span class=\"h6\">GeM portal clocks gross merchandise value of Rs 1,24,761 lakh crore in Q1FY25</span><small> 12 Jul, 11:49 AM</small></a>\\r\\n                                \\r\\n                                    <a id=\"btnDetails\" href=\"#\" data-toggle=\"modal\" data-target=\"#ModalNewsDetails\" data-details=\\'1104868\\' data-secname=\\'ECONOMY\\'\\r\\n                                        data-subsecname=\\'INDUSTRY AND MARKET-RELATED ANNOUNCEMENTS\\' data-fincode=\\'0\\' class=\"newslink\"><span class=\"h6\">India’s GDP to grow around 7% in FY25: NITI Aayog member </span><small> 12 Jul, 11:56 AM</small></a>\\r\\n                                \\r\\n                                    <a id=\"btnDetails\" href=\"#\" data-toggle=\"modal\" data-target=\"#ModalNewsDetails\" data-details=\\'1105055\\' data-secname=\\'ECONOMY\\'\\r\\n                                        data-subsecname=\\'INFLATION\\' data-fincode=\\'0\\' class=\"newslink\"><span class=\"h6\">Just in: Retail inflation rises to 5.08% in June vs 4.75% in May</span><small> 12 Jul, 5:45 PM</small></a>\\r\\n                                \\r\\n                                    <a id=\"btnDetails\" href=\"#\" data-toggle=\"modal\" data-target=\"#ModalNewsDetails\" data-details=\\'1104510\\' data-secname=\\'ECONOMY\\'\\r\\n                                        data-subsecname=\\'INDUSTRY AND MARKET-RELATED ANNOUNCEMENTS\\' data-fincode=\\'0\\' class=\"newslink\"><span class=\"h6\">Crude oil futures end higher as U.S. crude inventories fall</span><small> 11 Jul, 8:23 AM</small></a>\\r\\n                                \\r\\n                                    <a id=\"btnDetails\" href=\"#\" data-toggle=\"modal\" data-target=\"#ModalNewsDetails\" data-details=\\'1104542\\' data-secname=\\'ECONOMY\\'\\r\\n                                        data-subsecname=\\'INDUSTRY AND MARKET-RELATED ANNOUNCEMENTS\\' data-fincode=\\'0\\' class=\"newslink\"><span class=\"h6\">Retail inflation for industrial workers eases to 3.86% in May: Labour ministry </span><small> 11 Jul, 9:53 AM</small></a>\\r\\n                                \\r\\n                                    <a id=\"btnDetails\" href=\"#\" data-toggle=\"modal\" data-target=\"#ModalNewsDetails\" data-details=\\'1104563\\' data-secname=\\'ECONOMY\\'\\r\\n                                        data-subsecname=\\'INDUSTRY AND MARKET-RELATED ANNOUNCEMENTS\\' data-fincode=\\'0\\' class=\"newslink\"><span class=\"h6\">Commercial vehicle sales volume likely to decline 3-6% in FY25: CareEdge Ratings</span><small> 11 Jul, 10:53 AM</small></a>\\r\\n                                \\r\\n                                    <a id=\"btnDetails\" href=\"#\" data-toggle=\"modal\" data-target=\"#ModalNewsDetails\" data-details=\\'1104599\\' data-secname=\\'ECONOMY\\'\\r\\n                                        data-subsecname=\\'INDUSTRY AND MARKET-RELATED ANNOUNCEMENTS\\' data-fincode=\\'0\\' class=\"newslink\"><span class=\"h6\">India likely to see surge in private consumption in current fiscal year: Ind-Ra</span><small> 11 Jul, 11:58 AM</small></a>\\r\\n                                \\r\\n                                    <a id=\"btnDetails\" href=\"#\" data-toggle=\"modal\" data-target=\"#ModalNewsDetails\" data-details=\\'1104624\\' data-secname=\\'ECONOMY\\'\\r\\n                                        data-subsecname=\\'INDUSTRY AND MARKET-RELATED ANNOUNCEMENTS\\' data-fincode=\\'0\\' class=\"newslink\"><span class=\"h6\">RBI Deputy Governor flags concerns over quality of disclosures made by some NBFCs </span><small> 11 Jul, 12:29 PM</small></a>\\r\\n                                \\r\\n                        </div>\\r\\n                    </div>\\r\\n                </div>\\r\\n                <div class=\"col-12 col-md-4\">\\r\\n                    <div class=\"card cardscreen\">\\r\\n                        <h4><i class=\"fas fa-briefcase\"></i>&nbsp;Corporate News</h4>\\r\\n                        <div id=\"divNews2\">\\r\\n                            \\r\\n                                    <a id=\"btnDetails\" href=\"#\" data-toggle=\"modal\" data-secname=\\'COMPANY\\' data-subsecname=\\'NEWS\\' data-target=\"#ModalNewsDetails\" data-fincode=\\'132885\\' data-details=\\'1105070\\' class=\"newslink\"><span class=\"h6\">Central Bank of India enters into strategic Co-Lending Partnership with Arka Fincap</span><small> 13 Jul, 11:30 AM<span class=\"badge badge-newscomp\">CENTRALBK</span></small></a>\\r\\n                                \\r\\n                                    <a id=\"btnDetails\" href=\"#\" data-toggle=\"modal\" data-secname=\\'COMPANY\\' data-subsecname=\\'NEWS\\' data-target=\"#ModalNewsDetails\" data-fincode=\\'219300\\' data-details=\\'1105082\\' class=\"newslink\"><span class=\"h6\">Coal India plans to tweak auction, allocation methodology to encourage better participation </span><small> 13 Jul, 2:09 PM<span class=\"badge badge-newscomp\">COALINDIA</span></small></a>\\r\\n                                \\r\\n                                    <a id=\"btnDetails\" href=\"#\" data-toggle=\"modal\" data-secname=\\'COMPANY\\' data-subsecname=\\'NEWS\\' data-target=\"#ModalNewsDetails\" data-fincode=\\'132885\\' data-details=\\'1105068\\' class=\"newslink\"><span class=\"h6\">Central Bank of India enters into strategic Co-Lending Partnership with Shriram Housing Finance</span><small> 13 Jul, 10:45 AM<span class=\"badge badge-newscomp\">CENTRALBK</span></small></a>\\r\\n                                \\r\\n                                    <a id=\"btnDetails\" href=\"#\" data-toggle=\"modal\" data-secname=\\'COMPANY\\' data-subsecname=\\'NEWS\\' data-target=\"#ModalNewsDetails\" data-fincode=\\'100400\\' data-details=\\'1105078\\' class=\"newslink\"><span class=\"h6\">Tata Power invests Rs 4,245 crore in infrastructure expansion, network upgrade in Odisha</span><small> 13 Jul, 12:38 PM<span class=\"badge badge-newscomp\">TATAPOWER</span></small></a>\\r\\n                                \\r\\n                                    <a id=\"btnDetails\" href=\"#\" data-toggle=\"modal\" data-secname=\\'COMPANY\\' data-subsecname=\\'NEWS\\' data-target=\"#ModalNewsDetails\" data-fincode=\\'210729\\' data-details=\\'1105064\\' class=\"newslink\"><span class=\"h6\">SIS completes secondary investment of Rs 2.17 crore in Agarsha</span><small> 13 Jul, 10:18 AM<span class=\"badge badge-newscomp\">SIS</span></small></a>\\r\\n                                \\r\\n                                    <a id=\"btnDetails\" href=\"#\" data-toggle=\"modal\" data-secname=\\'COMPANY\\' data-subsecname=\\'NEWS\\' data-target=\"#ModalNewsDetails\" data-fincode=\\'287382\\' data-details=\\'1105073\\' class=\"newslink\"><span class=\"h6\">Apollo Micro Systems wins Make II project from Indian Army</span><small> 13 Jul, 12:16 PM<span class=\"badge badge-newscomp\">APOLLO</span></small></a>\\r\\n                                \\r\\n                                    <a id=\"btnDetails\" href=\"#\" data-toggle=\"modal\" data-secname=\\'COMPANY\\' data-subsecname=\\'NEWS\\' data-target=\"#ModalNewsDetails\" data-fincode=\\'222055\\' data-details=\\'1105087\\' class=\"newslink\"><span class=\"h6\">DGCA allows IndiGo to carry pre-flight briefing data in electronic form</span><small> 13 Jul, 3:29 PM<span class=\"badge badge-newscomp\">INDIGO</span></small></a>\\r\\n                                \\r\\n                                    <a id=\"btnDetails\" href=\"#\" data-toggle=\"modal\" data-secname=\\'COMPANY\\' data-subsecname=\\'NEWS\\' data-target=\"#ModalNewsDetails\" data-fincode=\\'307332\\' data-details=\\'1105066\\' class=\"newslink\"><span class=\"h6\">USFDA completes inspection at Piramal Pharma’s PPDS Ahmedabad facility</span><small> 13 Jul, 11:01 AM<span class=\"badge badge-newscomp\">PPLPHARMA</span></small></a>\\r\\n                                \\r\\n                                    <a id=\"btnDetails\" href=\"#\" data-toggle=\"modal\" data-secname=\\'COMPANY\\' data-subsecname=\\'NEWS\\' data-target=\"#ModalNewsDetails\" data-fincode=\\'112297\\' data-details=\\'1105076\\' class=\"newslink\"><span class=\"h6\">Shantai Industries enters into loan agreement with Karma Trendz</span><small> 13 Jul, 11:49 AM<span class=\"badge badge-newscomp\">512297</span></small></a>\\r\\n                                \\r\\n                                    <a id=\"btnDetails\" href=\"#\" data-toggle=\"modal\" data-secname=\\'COMPANY\\' data-subsecname=\\'NEWS\\' data-target=\"#ModalNewsDetails\" data-fincode=\\'132755\\' data-details=\\'1105093\\' class=\"newslink\"><span class=\"h6\">Tech Mahindra recognized among World’s Most Sustainable Companies 2024 by TIME Magazine</span><small> 13 Jul, 12:57 PM<span class=\"badge badge-newscomp\">TECHM</span></small></a>\\r\\n                                \\r\\n                        </div>\\r\\n                    </div>\\r\\n                </div>\\r\\n                <div class=\"col-12 col-md-4\">\\r\\n                    <div class=\"card cardscreen\">\\r\\n                        <h4><i class=\"fas fa-heartbeat\"></i>&nbsp;Market Pulse</h4>\\r\\n                        <div id=\"divNews3\">\\r\\n                            \\r\\n                                    <a id=\"btnDetails\" data-subsecname=\\'GLOBAL MARKETS\\' href=\"#\" data-toggle=\"modal\" data-secname=\\'EQUITY\\' data-target=\"#ModalNewsDetails\" data-details=\\'1105075\\' class=\"newslink\"><span class=\"h6\">US markets settle higher on Friday </span><small> 13 Jul, 10:43 AM</small></a>\\r\\n                                \\r\\n                                    <a id=\"btnDetails\" data-subsecname=\\'GLOBAL MARKETS\\' href=\"#\" data-toggle=\"modal\" data-secname=\\'EQUITY\\' data-target=\"#ModalNewsDetails\" data-details=\\'1104780\\' class=\"newslink\"><span class=\"h6\">US markets end mostly lower on Thursday </span><small> 12 Jul, 8:34 AM</small></a>\\r\\n                                \\r\\n                                    <a id=\"btnDetails\" data-subsecname=\\'MARKET PULSE\\' href=\"#\" data-toggle=\"modal\" data-secname=\\'ECONOMY\\' data-target=\"#ModalNewsDetails\" data-details=\\'1104782\\' class=\"newslink\"><span class=\"h6\">Question of change in stance on interest rate quite premature amid gap in current inflation, 4% target: Shaktikanta Das</span><small> 12 Jul, 9:07 AM</small></a>\\r\\n                                \\r\\n                                    <a id=\"btnDetails\" data-subsecname=\\'GLOBAL MARKETS\\' href=\"#\" data-toggle=\"modal\" data-secname=\\'EQUITY\\' data-target=\"#ModalNewsDetails\" data-details=\\'1104809\\' class=\"newslink\"><span class=\"h6\">Gold futures finish higher for third straight session on Thursday</span><small> 12 Jul, 9:59 AM</small></a>\\r\\n                                \\r\\n                                    <a id=\"btnDetails\" data-subsecname=\\'GLOBAL MARKETS\\' href=\"#\" data-toggle=\"modal\" data-secname=\\'EQUITY\\' data-target=\"#ModalNewsDetails\" data-details=\\'1104834\\' class=\"newslink\"><span class=\"h6\">Asian markets trade mostly lower in early deals on Friday</span><small> 12 Jul, 10:48 AM</small></a>\\r\\n                                \\r\\n                                    <a id=\"btnDetails\" data-subsecname=\\'GLOBAL MARKETS\\' href=\"#\" data-toggle=\"modal\" data-secname=\\'EQUITY\\' data-target=\"#ModalNewsDetails\" data-details=\\'1104982\\' class=\"newslink\"><span class=\"h6\">Asian markets settle mixed on Friday</span><small> 12 Jul, 3:36 PM</small></a>\\r\\n                                \\r\\n                                    <a id=\"btnDetails\" data-subsecname=\\'CLOSING BELL\\' href=\"#\" data-toggle=\"modal\" data-secname=\\'EQUITY\\' data-target=\"#ModalNewsDetails\" data-details=\\'1104985\\' class=\"newslink\"><span class=\"h6\">Post Session: Quick Review</span><small> 12 Jul, 3:54 PM</small></a>\\r\\n                                \\r\\n                                    <a id=\"btnDetails\" data-subsecname=\\'CLOSING BELL\\' href=\"#\" data-toggle=\"modal\" data-secname=\\'EQUITY\\' data-target=\"#ModalNewsDetails\" data-details=\\'1105025\\' class=\"newslink\"><span class=\"h6\">Benchmarks end at record closing peaks on Friday </span><small> 12 Jul, 5:13 PM</small></a>\\r\\n                                \\r\\n                                    <a id=\"btnDetails\" data-subsecname=\\'GLOBAL MARKETS\\' href=\"#\" data-toggle=\"modal\" data-secname=\\'EQUITY\\' data-target=\"#ModalNewsDetails\" data-details=\\'1104511\\' class=\"newslink\"><span class=\"h6\">US markets end sharply higher on Wednesday </span><small> 11 Jul, 8:34 AM</small></a>\\r\\n                                \\r\\n                                    <a id=\"btnDetails\" data-subsecname=\\'MARKET PULSE\\' href=\"#\" data-toggle=\"modal\" data-secname=\\'ECONOMY\\' data-target=\"#ModalNewsDetails\" data-details=\\'1104513\\' class=\"newslink\"><span class=\"h6\">India, UK committed for proposed FTA: Piyush Goyal</span><small> 11 Jul, 9:10 AM</small></a>\\r\\n                                \\r\\n                        </div>\\r\\n                    </div>\\r\\n                </div>\\r\\n            </div>\\r\\n\\r\\n            \\r\\n            <div class=\"row tickerfeatures\">\\r\\n                <div class=\"col-12\">\\r\\n                    <h2 class=\"sectionheading\">Here\\'s How Ticker Helps You\\r\\n                    </h2>\\r\\n                    <p class=\"sectiondesc\">Ticker is a revolutionary equity research tool that provides you with Three-Way Assistance for Intelligent Stock Picking.</p>\\r\\n                    <hr />\\r\\n                </div>\\r\\n            </div>\\r\\n            <div class=\"row no-gutters tickerfeatures\">\\r\\n                <div class=\"col-12 col-md-6 tickerfeaturestext\">\\r\\n                    <img src=\"https://assets.finology.in/ticker/images/stock-analysis-1.svg\" title=\"Stock Analysis\" alt=\"Stock Analysis\" class=\"img-fluid d-none d-md-block\" loading=\"lazy\" />\\r\\n                    <span class=\"h6\">1. Stock Analysis</span>\\r\\n                    <span class=\"h3\">Get Every information you need. Right Away!</span>\\r\\n                    <img title=\"Stock research\" alt=\"Valuation chart\"\\r\\n                        src=\"https://assets.finology.in/ticker/images/stock-analysis.png\" class=\"img-fluid pt-md-3 d-block d-md-none w-100 h-auto\" loading=\"lazy\" />\\r\\n\\r\\n                    <p>\\r\\n                        Analyzing stocks is a serious affair and with Ticker you get one-stop destination for cutting-edge stock research. Our stock analysis platform provides a sophisticated yet simple interface that you would be impressed with while carrying out your stock analysis.\\r\\n                    </p>\\r\\n                    <ul>\\r\\n                        <li>Comprehensive Data and Research</li>\\r\\n                        <li>Flexible and Customizable to Suit Your Needs</li>\\r\\n                        <li>Simple Interface That\\'s Very Easy to Use</li>\\r\\n                    </ul>\\r\\n                </div>\\r\\n                <div class=\"col-12 col-md-6 d-none d-md-block\">\\r\\n                    <img src=\"https://assets.finology.in/ticker/images/stock-analysis.png\" title=\"Stock research\" alt=\"Valuation chart\"\\r\\n                        class=\"img-fluid pt-md-3\" loading=\"lazy\" />\\r\\n                </div>\\r\\n\\r\\n                <div class=\"col-12 col-md-6 d-none d-md-block\">\\r\\n                    <img src=\"https://assets.finology.in/ticker/images/peer-comparison.png\" title=\"Peer Comparison\" alt=\"Stock Peer Comparison\"\\r\\n                        class=\"img-fluid pt-md-3\" loading=\"lazy\" />\\r\\n                </div>\\r\\n                <div class=\"col-12 col-md-6 tickerfeaturestext\">\\r\\n                    <img src=\"https://assets.finology.in/ticker/images/peer-comparison-1.svg \" title=\"Companies Comparison\" alt=\"Companies Comparison\"\\r\\n                        class=\"img-fluid d-none d-md-block\" loading=\"lazy\" />\\r\\n                    <span class=\"h6\">2. Peer Comparison</span>\\r\\n                    <span class=\"h3\">Refine your Industry love and Pick the best Performing peer.</span>\\r\\n                    <img src=\"https://assets.finology.in/ticker/images/peer-comparison.png\" title=\"Peer Comparison\" alt=\"Stock Peer Comparison\"\\r\\n                        class=\"img-fluid pt-md-3 d-block d-md-none w-100 h-auto\" loading=\"lazy\" />\\r\\n                    <p>\\r\\n                        Compare the companies operating in the same industry and choose the best amongst the lot with Peer Comparison. A detailed comparison of similar companies will help you make a better decision. Ticker gives you an edge when it comes to peer comparison.\\r\\n                    </p>\\r\\n                    <ul>\\r\\n                        <li>Intricately Detailed Data</li>\\r\\n                        <li>Compare Three Companies at a Time</li>\\r\\n                        <li>Industry-Wise Suggested Parameters</li>\\r\\n                    </ul>\\r\\n                </div>\\r\\n\\r\\n                <div class=\"col-12 col-md-6 tickerfeaturestext\">\\r\\n                    <img src=\"https://assets.finology.in/ticker/images/bundles-1.svg\" title=\"Ticker Bundles\" alt=\"Bundles\"\\r\\n                        class=\"img-fluid d-none d-md-block\" loading=\"lazy\" />\\r\\n                    <span class=\"h6\">3. Bundles</span>\\r\\n                    <span class=\"h3\">Some Strategies to Help you Get started!</span>\\r\\n                    <img src=\"https://assets.finology.in/ticker/images/bundles.png\" title=\"Stock Bundles\" alt=\"Stock baskets\"\\r\\n                        class=\"img-fluid pt-md-3 d-block d-md-none w-100 h-auto\" loading=\"lazy\" />\\r\\n                    <p>\\r\\n                        These are baskets of stocks shortlisted using proven investment strategies. These assortments of companies are based on predefined criteria that help you choose stocks based on your own investment strategy. And, if you already haven\\'t thought about a strategy, don\\'t worry. Bundles will help you select one.\\r\\n                    </p>\\r\\n                    <ul>\\r\\n                        <li>Options to Suit Different Investing Styles</li>\\r\\n                        <li>Daily Updates Based on Market Behavior</li>\\r\\n                        <li>Robust Parameters Crafted by Experts</li>\\r\\n                    </ul>\\r\\n                </div>\\r\\n                <div class=\"col-12 col-md-6 d-none d-md-block\">\\r\\n                    <img src=\"https://assets.finology.in/ticker/images/bundles.png \" class=\"img-fluid pt-md-2\" title=\"Stock Bundles\" alt=\"Stock baskets\" loading=\"lazy\" />\\r\\n                </div>\\r\\n                <div class=\"col-12 text-center\">\\r\\n                    <a class=\"btn btn-primary\" href=\"/how-to-use\">Learn How to Use</a>\\r\\n                </div>\\r\\n            </div>\\r\\n\\r\\n\\r\\n        </div>\\r\\n\\r\\n        <footer>\\r\\n            <div class=\"container-fluid px-5\">\\r\\n                <div class=\"row no-gutters\">\\r\\n                    <div class=\"col-12 col-md-3\">\\r\\n                        <img src=\"https://assets.finology.in/ticker/images/footer-logo.png\" title=\"Footer Logo\" alt=\"Ticker Footer Logo\"\\r\\n                            class=\"img-fluid w-25\" loading=\"lazy\" />\\r\\n                        <h6>The best stock screening, equity research and company analysis tool built by a passionate team of investors at Finology&reg;. Intelligent Stock picking Starts here.</h6>\\r\\n\\r\\n                    </div>\\r\\n                    <div class=\"col-12 col-md-9\">\\r\\n                        <div class=\"row no-gutters\">\\r\\n                            <div class=\"col-6 col-md-3\">\\r\\n                                <h4>Finology&reg;</h4>\\r\\n                                <a target=\"_blank\" href=\"https://finology.in/one\">Finology One</a>\\r\\n                                <a target=\"_blank\" href=\"https://recipe.finology.in\">Recipe</a>\\r\\n                                <a target=\"_blank\" href=\"https://quest.finology.in\">Quest</a>\\r\\n                                <a target=\"_blank\" href=\"https://select.finology.in\">Select</a>\\r\\n                                <a target=\"_blank\" href=\"https://insider.finology.in/\">Insider</a>\\r\\n                                <a href=\"/privacy\">Privacy Policy</a>\\r\\n                            </div>\\r\\n                            <div class=\"col-6 col-md-3\">\\r\\n                                <h4>Ticker</h4>\\r\\n                                <a href=\"/how-to-use\">How to Use</a>\\r\\n                                <a href=\"/bundles\">Bundles</a>\\r\\n                                <a href=\"/screener\">Screener</a>\\r\\n                                <a class=\"tickerplus tickerpremierleague\" href=\"/league\"><i class=\"fas fa-fw fa-trophy\"></i>&nbsp;Premier League</a>\\r\\n                                <a class=\"tickerplus\" href=\"/tickerplus\"><i class=\"fas fa-crown\"></i>&nbsp;TickerPlus</a>\\r\\n                                <a href=\"/disclaimer\">Disclaimer</a>\\r\\n                            </div>\\r\\n                            <div class=\"col-6 col-md-3\">\\r\\n                                <h4>Stock Market</h4>\\r\\n                                <a href=\"/market\">Market Dashboard</a>\\r\\n                                <a href=\"/IPO\">IPO</a>\\r\\n                                <a href=\"/sector\">Sector</a>\\r\\n                                <a href=\"/investor\">Super Investors</a>\\r\\n                                <a href=\"/directory/stocks/1\">Stocks Directory</a>\\r\\n                            </div>\\r\\n                            <div class=\"col-6 col-md-3\">\\r\\n                                <h4>Help</h4>\\r\\n                                <a href=\"/App/Feedback\">Feedback</a>\\r\\n                                <a href=\"/support\">Support</a>\\r\\n                                <a href=\"/updates\">Updates</a>\\r\\n                                <a href=\"https://www.finology.in/support\" target=\"_blank\">FAQ</a>\\r\\n                                <p class=\"social\">\\r\\n                                    <strong>Follow us:</strong><br />\\r\\n                                    <a href=\"https://twitter.com/finologyticker\" target=\"_blank\"><i class=\"fab fa-twitter\"></i></a>\\r\\n                                    <a href=\"https://www.instagram.com/finologyticker\" target=\"_blank\"><i class=\"fab fa-instagram\"></i></a>\\r\\n                                    <a href=\"https://www.youtube.com/c/Finologyticker\" target=\"_blank\"><i class=\"fab fa-youtube\"></i></a>\\r\\n\\r\\n                                    <a href=\"https://t.me/myfinology\" target=\"_blank\"><i class=\"fab fa-telegram\"></i></a>\\r\\n                                    <a href=\" https://myfinology.quora.com\" target=\"_blank\"><i class=\"fab fa-quora\"></i></a>\\r\\n\\r\\n                                </p>\\r\\n\\r\\n                            </div>\\r\\n                        </div>\\r\\n                    </div>\\r\\n\\r\\n                    <div class=\"col-12 small\">\\r\\n                        SEBI Registration: <strong>FINOLOGY VENTURES PRIVATE LIMITED (INA000012218)</strong>\\r\\n                        <br />\\r\\n                        Copyright &copy; 2024 Finology Ventures Pvt. Ltd. | All Rights Reserved with Finology&reg; | Data Feed provided by Accord Fintech | <strong>Prices are delayed by 15 minutes</strong>\\r\\n                        <br />\\r\\n                        <strong>Important Disclaimer:</strong> Though Ticker is a very useful tool for stock analysis and stock research, it in no way recommends the fair value of the companies (since that is always subjective). Informed decision making and taking only calculated risk is recommended for you to make the most out of equity investing. Therefore, the investors are hereby advised to use Ticker only as a stock market research tool and apply their discretion while investing.\\r\\n            \\r\\n                    </div>\\r\\n\\r\\n                    <div class=\"col-12 small\">\\r\\n\\r\\n                        <h2>Fundamental Analysis Tool</h2>\\r\\n                        <p>Ticker Fundamental analysis tool is a free platform for investors who want to pick better investment opportunities in the stock market. It helps in analyzing various aspects of a company\\'s financial statements and ratios to determine its intrinsic value and potential for future growth. An integral part of fundamental analysis is financial statement analysis. By examining a company\\'s balance sheet, profit and loss statement, quarterly results and cash flows, investors can gain valuable insights into its financial health and performance.</p>\\r\\n                        <h2>Using Ticker for Company Analysis</h2>\\r\\n                        <p>Company analysis is an important step in fundamental analysis. It includes a comprehensive assessment of a company\\'s operations, industry position, management team, competitive advantage, and growth prospects. By looking into these areas, investors can determine whether a company is a suitable investment option for them.</p>\\r\\n                        <p>To do company analysis effectively, investors should use fundamental analysis tools like Ticker. Ticker helps investors to search for a company and analyze its financial information. Stock analysis websites like ticker are important to learn for company analysis as they provide access to many pre-built tools and lots of data. Ticker provides detailed financial information, updated stock prices, news updates, and analysis reports about a listed company in Indian stock market. It also provides various stock charts like price, volume, P/E and P/B charts to visualize stock\\'s performance over a period of 5 years.</p>\\r\\n                        <h2>Ratio Analysis tool Ticker</h2>\\r\\n                        <p>Ratio analysis is a fundamental analysis technique that enables investors to gain deeper insights into a company\\'s financial performance. It does so by comparing different financial ratios to evaluate a company\\'s financial health, profitability, efficiency, and stability over time.</p>\\r\\n                        <p>Ticker Financial ratio analysis provides a unique approach to interpreting a company\\'s financial data. By comparing a company\\'s ratios with industry averages, peer companies or its historical data, investors can identify trends, strengths, and weaknesses. For example, a high return on equity (ROE) ratio indicates strong profitability, while a high debt-to-equity ratio suggests a higher level of financial risk involved.</p>\\r\\n                        <p>Ticker provides thousands of such financial ratios, you should get started with price-to-earnings ratio (P/E ratio), earnings per share (EPS), price-to-book ratio (P/B ratio), and dividend yield ratios to understand a stock better. Each of these ratios provides a different perspective on a company\\'s financial performance and valuation. Using ticker stock analyzer, you can login to your account and add multiple ratios from the Company Essentials box and see them in all company analysis pages.</p>\\r\\n                        <h2>Balance Sheet Analysis</h2>\\r\\n                        <p>Balance sheet analysis is an important part of fundamental analysis which focuses on measuring a company\\'s assets, liabilities, and shareholders\\' equity. By analyzing a company\\'s balance sheet, investors can learn about its financial stability, leverage, and capital structure.</p>\\r\\n                        <p>The balance sheet feature in ticker provides a snapshot of a company\\'s financial position in the past 5 years. It provides data points about the company\\'s assets, such as cash, inventory, property, and equipment, as well as its liabilities, such as debt and accounts payable. The shareholders\\' equity section reflects the company\\'s net worth.</p>\\r\\n                        <p>By analyzing a company&rsquo;s balance sheet, investors can deep dive into the health of a company\\'s assets and liabilities, assess its liquidity and solvency, and determine the level of financial risk that the company brings as an investment option in their portfolio. For example, a high proportion of long-term debt relative to equity may indicate higher leverage and financial vulnerability in the company.</p>\\r\\n                        <h2>Best Stock Market Analysis&nbsp;tool Ticker</h2>\\r\\n                        <p>Stock market analysis is a process that makes use of fundamental analysis techniques to find investment opportunities in the stock market. By combining various stock analyzer tools inside Ticker, like financial statement analysis, ratio analysis, and company analysis, investors can make decisions on their own about buying or selling stocks. It also enables one to find multibagger stocks, long term stocks and undervalued stocks from the 5000+ listed companies.</p>\\r\\n                        <p>Fundamental analysis of stocks evaluates a company\\'s financial health, industry dynamics, competitive positioning, and growth potential. It helps investors identify undervalued stocks, stocks with continued profit growth, sales growth and much more with future growth prospects and stay away from stock tips and overvalued stocks that may be at risk of a downward trend.</p>\\r\\n                        <p>To improve and be better at stock market analysis, you must stay updated with the latest news and trends. Stock analysis website Ticker provides a high quality and free forever platform with over 5 years of in-depth data for listed companies, including market news, company updates, reports, calculators, ratios, peer comparison and historical data. By utilizing these tools and resources, investors can make informed investment decisions by themselves.</p>\\r\\n                        <p>\\r\\n                            <strong>Disclaimer:</strong> Ticker is a tool (basically a screener) developed for stock analysis and research. It in no way recommends the fair value of the companies (since that is always subjective). Informed decision making and taking only calculated risk is recommended for you to make the most out of equity investing. \\r\\n                        Therefore, the investors are hereby advised to use Ticker only as a stock market research tool and apply their discretion while investing.\\r\\n                        </p>\\r\\n                    </div>\\r\\n                </div>\\r\\n            </div>\\r\\n        </footer>\\r\\n\\r\\n        \\r\\n        <div id=\"mbsnav\" class=\"bsnav-mobile\">\\r\\n            <div class=\"bsnav-mobile-overlay\"></div>\\r\\n            <div class=\"navbar\">\\r\\n            </div>\\r\\n        </div>\\r\\n\\r\\n        <div class=\"modal fade screenermodal\" id=\"ModalNewsDetails\" tabindex=\"-1\" role=\"dialog\" aria-labelledby=\"newsheading\" aria-hidden=\"true\">\\r\\n            <div class=\"modal-dialog modal-lg modal-dialog-centered\" role=\"document\">\\r\\n                <div class=\"modal-content\">\\r\\n                    <div class=\"modal-header\">\\r\\n                        <h4 class=\"modal-title\" id=\"newsheading\"></h4>\\r\\n                        <button type=\"button\" class=\"close\" data-dismiss=\"modal\" aria-label=\"Close\">\\r\\n                            <span aria-hidden=\"true\">x</span>\\r\\n                        </button>\\r\\n                    </div>\\r\\n                    <div class=\"modal-body\">\\r\\n                        <hr class=\"halfhr\" />\\r\\n                        <div id=\"divNewsForModal\"></div>\\r\\n                    </div>\\r\\n                </div>\\r\\n            </div>\\r\\n        </div>\\r\\n\\r\\n        \\r\\n\\r\\n        <script src=\"https://code.jquery.com/jquery-3.4.1.min.js\"></script>\\r\\n        <script src=\"https://cdn.jsdelivr.net/npm/bootstrap@5.3.0/dist/js/bootstrap.bundle.min.js\"></script>\\r\\n        <script src=\"https://cdnjs.cloudflare.com/ajax/libs/popper.js/2.9.2/umd/popper.min.js\" integrity=\"sha512-2rNj2KJ+D8s1ceNasTIex6z4HWyOnEYLVC3FigGOmyQCZc2eBXKgOxQmo3oKLHyfcj53uz4QMsRCWNbLd32Q1g==\" crossorigin=\"anonymous\" referrerpolicy=\"no-referrer\"></script>\\r\\n        <script src=\"https://stackpath.bootstrapcdn.com/bootstrap/4.4.1/js/bootstrap.min.js\" integrity=\"sha384-wfSDF2E50Y2D1uUdj0O3uMBJnjuUD4Ih7YwaYd1iqfktj0Uod8GCExl3Og8ifwB6\" crossorigin=\"anonymous\"></script>\\r\\n        <script src=\"https://cdn.jsdelivr.net/gh/fitodac/bsnav@master/dist/bsnav.min.js\"></script>\\r\\n        <script src=\"https://cdnjs.cloudflare.com/ajax/libs/jquery.perfect-scrollbar/1.4.0/perfect-scrollbar.min.js\"></script>\\r\\n        <script src=\"https://cdnjs.cloudflare.com/ajax/libs/jquery-throttle-debounce/1.1/jquery.ba-throttle-debounce.min.js\"></script>\\r\\n        <script src=\"https://cdnjs.cloudflare.com/ajax/libs/autonumeric/4.1.0/autoNumeric.min.js\"></script>\\r\\n        <script src=\"https://cdnjs.cloudflare.com/ajax/libs/OwlCarousel2/2.3.4/owl.carousel.min.js\" integrity=\"sha256-pTxD+DSzIwmwhOqTFN+DB+nHjO4iAsbgfyFq5K5bcE0=\" crossorigin=\"anonymous\"></script>\\r\\n        <script src=\"https://cdn.jsdelivr.net/npm/holderjs@2.9.9/holder.min.js\" integrity=\"sha256-nQwLrn6KDmjRvP9frt70dSS7R2ubtjzxRry3Y+K3zKc=\" crossorigin=\"anonymous\"></script>\\r\\n        <script>\\r\\n            $(function () {\\r\\n                var keyindex, alinks;\\r\\n                keyindex = -1;\\r\\n                var searchRequest = null;\\r\\n\\r\\n                $(\"#txtSearchComp\").on(\"keyup touchend\", $.debounce(50, function (e) {\\r\\n                    var kc = (e.keyCode ? e.keyCode : e.which);\\r\\n                    if ((kc >= 48 && kc <= 57) || (kc >= 65 && kc <= 90) || kc === 229) {//32\\r\\n                        if ($(\"#txtSearchComp\").val() != \\'\\') {\\r\\n                            if ($(\"#txtSearchComp\").val().length > 2) {\\r\\n                                $(this).css(\"border-bottom-left-radius\", \"0\");\\r\\n                                $(this).css(\"border-bottom-right-radius\", \"0\");\\r\\n                                if (searchRequest)\\r\\n                                    searchRequest.abort();\\r\\n                                e.stopPropagation();\\r\\n                                $(\".output\").html(\"\");\\r\\n                                $(\".output\")\\r\\n                                    .stop()\\r\\n                                    .show()\\r\\n                                    .addClass(\"active\");\\r\\n                                $(\\'.frequents\\').hide();\\r\\n                                $(\\'.partner\\').hide();\\r\\n                                var searchField = encodeURIComponent($(this).val().trim());\\r\\n                                searchRequest = $.ajax({\\r\\n                                    type: \\'GET\\',\\r\\n                                    dataType: \"json\",\\r\\n                                    url: \"GetSearchData.ashx?q=\" + searchField,\\r\\n                                    success: function (data) {\\r\\n                                        var i = 0;\\r\\n                                        var j;\\r\\n                                        var brandname = [];\\r\\n                                        var productname = [];\\r\\n                                        var searchterm = [];\\r\\n                                        var infotext = \"\";\\r\\n                                        $.each(data, function (key, value) {\\r\\n                                            //code for brand\\r\\n                                            if (value.brands != null) {\\r\\n                                                brandname = value.brands.trim().split(\\',\\');\\r\\n                                                var txtname = $(\"#txtSearchComp\").val();\\r\\n\\r\\n                                                if (brandname.length > 0) {\\r\\n                                                    for (j = 0; j < brandname.length; j++) {\\r\\n                                                        if (brandname[j].toUpperCase().includes(txtname.toUpperCase())) {\\r\\n                                                            infotext = \"<small class=\\'text-grey\\'>Brand :&nbsp;&nbsp;</small><span class=\\'badgebrand badgebrand-primary\\'>\" + brandname[j].trim() + \"</span>\";\\r\\n                                                        }\\r\\n                                                    }\\r\\n                                                }\\r\\n\\r\\n                                            }\\r\\n                                            //code for product list\\r\\n                                            if (value.productlist != null) {\\r\\n                                                productname = value.productlist.split(\\',\\');\\r\\n                                                var txtname = $(\"#txtSearchComp\").val();\\r\\n\\r\\n                                                if (productname.length > 0) {\\r\\n                                                    for (j = 0; j < productname.length; j++) {\\r\\n\\r\\n                                                        if (productname[j].toUpperCase().includes(txtname.toUpperCase())) {\\r\\n                                                            infotext = \"<small>Product :&nbsp;&nbsp;</small><span class=\\'badgebrand badgebrand-primary\\'>\" + productname[j] + \"</span>\";\\r\\n                                                        }\\r\\n                                                    }\\r\\n                                                }\\r\\n                                            }\\r\\n                                            //code for search terms\\r\\n                                            if (value.searchterms != null) {\\r\\n                                                searchterm = value.searchterms.split(\\',\\');\\r\\n                                                var txtname = $(\"#txtSearchComp\").val();\\r\\n\\r\\n                                                if (searchterm.length > 0) {\\r\\n                                                    for (j = 0; j < searchterm.length; j++) {\\r\\n\\r\\n                                                        if (searchterm[j].toUpperCase().includes(txtname.toUpperCase())) {\\r\\n                                                            infotext = \"<small>Also known As :&nbsp;&nbsp;</small><span class=\\'badgebrand badgebrand-primary\\'>\" + searchterm[j] + \"</span>\";\\r\\n                                                        }\\r\\n                                                    }\\r\\n                                                }\\r\\n                                            }\\r\\n                                            //productlist\\r\\n                                            $(\".output\").append(\"<a href=\\'company/\" + ((value.SYMBOL == 0 || value.SYMBOL == null\\r\\n                                                || value.SYMBOL.includes(\"&\")) ? \\'SCRIP-\\' + value.FINCODE : value.SYMBOL) + \"\\' class=\\'list animated fadeInUp faster\\' style=\\'animation-delay: \" + (i * 50) + \"ms;\\'>\" + value.compname + \"<span class=\\'badge badge-primary\\'>\" + ((value.SYMBOL == 0) ? \\'BSE: \\' + value.SCRIPCODE : \\'NSE: \\' + value.SYMBOL) + \"</span><br>\" + infotext + \"</a>\");\\r\\n                                            infotext = \"\";\\r\\n                                            i++;\\r\\n\\r\\n                                        });\\r\\n                                        //TODO: empty check above when data recieved\\r\\n                                        if ($(\".output\").is(\":empty\")) {\\r\\n                                            $(\".output\").append(\"<small class=\\'text-center text-muted d-block\\'>No Stocks Found. Please Check for any spelling mistakes.</small>\");\\r\\n                                            $(\\'.frequents\\').show();\\r\\n                                            $(\\'.partner\\').show();\\r\\n                                        }\\r\\n                                    }\\r\\n                                });\\r\\n                            }\\r\\n                            else {\\r\\n                                e.stopPropagation();\\r\\n                                $(\".output\")\\r\\n                                    .stop()\\r\\n                                    .show()\\r\\n                                    .html(\"\")\\r\\n                                    .append(\"<small class=\\'text-center text-muted d-block\\'>Keep typing... Type some more characters.</small>\")\\r\\n                                    .addClass(\"active\");\\r\\n                                $(this).css(\"border-bottom-left-radius\", \"0\");\\r\\n                                $(this).css(\"border-bottom-right-radius\", \"0\");\\r\\n                                $(\\'.frequents\\').show();\\r\\n                                $(\\'.partner\\').show();\\r\\n                            }\\r\\n                        }\\r\\n                        else {\\r\\n                            e.stopPropagation();\\r\\n                            $(\".output\")\\r\\n                                .stop()\\r\\n                                .html(\"\")\\r\\n                                .hide()\\r\\n                                .removeClass(\"active\");\\r\\n                            $(\"#txtSearchComp\").css(\"border-bottom-left-radius\", \"35px\");\\r\\n                            $(\"#txtSearchComp\").css(\"border-bottom-right-radius\", \"35px\");\\r\\n                            $(\\'.frequents\\').show();\\r\\n                            $(\\'.partner\\').show();\\r\\n                        }\\r\\n\\r\\n                    }\\r\\n                    else {\\r\\n                        if ($(\"#txtSearchComp\").val() != \\'\\') {\\r\\n                            if ($(\"#txtSearchComp\").val().length > 2) { }\\r\\n                            else {\\r\\n                                e.stopPropagation();\\r\\n                                $(\".output\")\\r\\n                                    .stop()\\r\\n                                    .show()\\r\\n                                    .html(\"\")\\r\\n                                    .append(\"<small class=\\'text-center text-muted d-block\\'>Keep typing... Type some more characters.</small>\")\\r\\n                                    .addClass(\"active\");\\r\\n                                $(this).css(\"border-bottom-left-radius\", \"0\");\\r\\n                                $(this).css(\"border-bottom-right-radius\", \"0\");\\r\\n                                $(\\'.frequents\\').show();\\r\\n                                $(\\'.partner\\').show();\\r\\n                            }\\r\\n                        } else {\\r\\n                            e.stopPropagation();\\r\\n                            $(\".output\")\\r\\n                                .stop()\\r\\n                                .html(\"\")\\r\\n                                .hide()\\r\\n                                .removeClass(\"active\");\\r\\n                            $(\"#txtSearchComp\").css(\"border-bottom-left-radius\", \"35px\");\\r\\n                            $(\"#txtSearchComp\").css(\"border-bottom-right-radius\", \"35px\");\\r\\n                            $(\\'.frequents\\').show();\\r\\n                            $(\\'.partner\\').show();\\r\\n                        }\\r\\n                    }\\r\\n\\r\\n                }));\\r\\n\\r\\n                $(document).on(\"click\", function (e) {\\r\\n                    e.stopPropagation();\\r\\n                    $(\".output\")\\r\\n                        .stop()\\r\\n                        .html(\"\")\\r\\n                        .hide()\\r\\n                        .removeClass(\"active\");\\r\\n                    $(\"#txtSearchComp\").css(\"border-bottom-left-radius\", \"35px\");\\r\\n                    $(\"#txtSearchComp\").css(\"border-bottom-right-radius\", \"35px\");\\r\\n                    $(\\'.frequents\\').show();\\r\\n                    $(\\'.partner\\').show();\\r\\n                });\\r\\n\\r\\n                $(\"#txtSearchComp\").on(\"keydown touchend\", (function (e) {\\r\\n                    var kc = (e.keyCode ? e.keyCode : e.which);\\r\\n                    if (kc == 40) {\\r\\n                        e.preventDefault();\\r\\n\\r\\n                        keyindex = -1;\\r\\n                        alinks = $(\\'.output\\').find(\\'a\\');\\r\\n                        if (alinks.length === 0) {\\r\\n                            keyindex = -1;\\r\\n                        }\\r\\n\\r\\n                        if (alinks.length > 0 && keyindex == -1) {\\r\\n                            keyindex = 0;\\r\\n                            $(\\'.output\\').find(\\'a\\')[keyindex].focus();\\r\\n                        }\\r\\n                    }\\r\\n                }));\\r\\n\\r\\n                $(\\'.output\\').keydown(function (e) {\\r\\n                    var kc = (e.keyCode ? e.keyCode : e.which);\\r\\n                    alinks = $(\\'.output\\').find(\\'a\\');\\r\\n\\r\\n                    if (kc == 40) {\\r\\n                        e.preventDefault();\\r\\n\\r\\n                        if (keyindex == alinks.length - 1) {\\r\\n                            keyindex = -1;\\r\\n                        }\\r\\n\\r\\n                        if (alinks.length > 0 && keyindex < alinks.length - 1) {\\r\\n                            keyindex++;\\r\\n                            $(\\'.output\\').find(\\'a\\')[keyindex].focus();\\r\\n                        }\\r\\n                    }\\r\\n                    if (kc == 38) {\\r\\n                        e.preventDefault();\\r\\n                        if (keyindex == 0) {\\r\\n                            keyindex = -1;\\r\\n                            $(\\'#txtSearchComp\\').focus();\\r\\n                        }\\r\\n                        if (alinks.length > 0 && keyindex < alinks.length && keyindex > 0) {\\r\\n                            keyindex--;\\r\\n                            $(\\'.output\\').find(\\'a\\')[keyindex].focus();\\r\\n                        }\\r\\n                    }\\r\\n                });\\r\\n\\r\\n            });\\r\\n            new PerfectScrollbar(\".output\");\\r\\n\\r\\n            AutoNumeric.multiple(\\'.Number\\', { allowDecimalPadding: \\'floats\\', digitalGroupSpacing: \"2\", showWarnings: false });\\r\\n\\r\\n            $(\\'#frmTicker\\').on(\\'keyup keypress touchend\\', function (e) {\\r\\n                var keyCode = e.keyCode || e.which;\\r\\n                if (keyCode === 13) {\\r\\n                    e.preventDefault();\\r\\n                    return false;\\r\\n                }\\r\\n            });\\r\\n\\r\\n            $(\\'#ModalNewsDetails\\').on(\\'show.bs.modal\\', function (event) {\\r\\n                var modal = this;\\r\\n                var hash = modal.id;\\r\\n                window.location.hash = hash;\\r\\n                window.onhashchange = function () {\\r\\n                    if (!location.hash) {\\r\\n                        $(modal).modal(\\'hide\\');\\r\\n                    }\\r\\n                }\\r\\n                var button = $(event.relatedTarget);\\r\\n                var data = button.data(\\'details\\');\\r\\n                var secname = button.data(\\'secname\\');\\r\\n                var subsecname = button.data(\\'subsecname\\');\\r\\n                var fincode = button.data(\\'fincode\\');\\r\\n                NewsDetails(data, secname, subsecname, fincode);\\r\\n            });\\r\\n\\r\\n            $(\\'#ModalNewsDetails\\').on(\\'hidden.bs.modal\\', function () {\\r\\n                var hash = this.id;\\r\\n                history.replaceState(\\'\\', document.title, window.location.pathname);\\r\\n            });\\r\\n\\r\\n            // when close button clicked simulate back\\r\\n            $(\\'#ModalNewsDetails button.close\\').on(\\'click\\', function () {\\r\\n                window.history.back();\\r\\n            })\\r\\n\\r\\n            // when esc pressed when modal open simulate back\\r\\n            $(\\'#ModalNewsDetails\\').keyup(function (e) {\\r\\n                var kc = (e.keyCode ? e.keyCode : e.which);\\r\\n                if (kc === 27 || kc === 8) {\\r\\n                    window.history.back();\\r\\n                }\\r\\n            });\\r\\n\\r\\n            function NewsDetails(NewsID, secname, subsecname, fincode) {\\r\\n                var searchRequest = \\'\\';\\r\\n                if (searchRequest)\\r\\n                    searchRequest.abort();\\r\\n                searchRequest = $.ajax({\\r\\n                    type: \\'GET\\',\\r\\n                    dataType: \"json\",\\r\\n                    url: \\'/News.ashx?secname=\\' + secname + \\'&NewsID=\\' + NewsID + \\'&subsecname=\\' + subsecname + \\'&fincode=\\' + fincode,\\r\\n                    success: function (data) {\\r\\n                        var htmlForModal = \"\";\\r\\n                        var condition = \"\";\\r\\n                        $(\"#newsheading\").text(\"\");\\r\\n                        $(\"#divNewsForModal\").text(\"\");\\r\\n                        if (data != null && data.length > 0) {\\r\\n                            var value = data[0];\\r\\n                            var url = \"\";\\r\\n                            if (value.details == \"\" || value.details == null) {\\r\\n                                condition = value.Caption;\\r\\n                            }\\r\\n                            else {\\r\\n                                condition = value.details;\\r\\n                            }\\r\\n                            if (value.SYMBOL === \\'\\' || value.SYMBOL == \\'0\\' || value.SYMBOL == \\'0.0\\' || (value.SYMBOL != undefined && value.SYMBOL.includes(\\'&\\'))) {\\r\\n                                url = \"SCRIP-\" + value.fincode;\\r\\n                            }\\r\\n                            else {\\r\\n                                url = value.SYMBOL;\\r\\n                            }\\r\\n                            if (url === null || url == undefined) {\\r\\n                                htmlForModal += \"<div class=\\'newsdetailmodal\\' id=\\'\" + value.newsid + \"\\' data-heading=\\'\" + value.heading + \"\\'> <span class=\\'newslink mb-3\\'><small>\" + value.Newsdate + \", \" + value.NewsTime + \"</small></span>\" + condition + \"</div>\";\\r\\n                            }\\r\\n                            else {\\r\\n                                htmlForModal += \"<div class=\\'newsdetailmodal\\' id=\\'\" + value.newsid + \"\\' data-heading=\\'\" + value.heading + \"\\'><small class=\\'text-grey\\'>Visit:</small><a href=\\'company/\" + url + \"\\'><span class=\\'badge badge-newscomp ml-1\\'>\" + url + \"</span></a> <span class=\\'newslink mb-3\\'><small>\" + value.Newsdate + \", \" + value.NewsTime + \"</small></span>\" + condition + \"</div>\";\\r\\n                            }\\r\\n                            $(\"#newsheading\").append(value.heading);\\r\\n                        }\\r\\n                        $(\"#divNewsForModal\").append(htmlForModal);\\r\\n                    }\\r\\n                });\\r\\n            }\\r\\n            //mediaquerychange\\r\\n            function addDestroyCarouselWidthChange(mq) {\\r\\n                var carousel = $(\".mobile-carousel\");\\r\\n                if (!mq.matches) {\\r\\n                    carousel.owlCarousel({\\r\\n                        margin: 0,\\r\\n                        nav: true,\\r\\n                        items: 1,\\r\\n                        navText: [\"◀\", \"▶\"],\\r\\n                        dots: false,\\r\\n                        autoplay: true,\\r\\n                        autoplayTimeout: 3000,\\r\\n                        autoplayHoverPause: true,\\r\\n                        freeDrag: true, loop: true\\r\\n                    });\\r\\n                } else {\\r\\n                    carousel.css(\"display\", \"flex\");\\r\\n                    carousel.trigger(\"destroy.owl.carousel\", 0);\\r\\n                }\\r\\n            }\\r\\n\\r\\n            $(document).ready(function () {\\r\\n                if (matchMedia) {\\r\\n                    var mq = window.matchMedia(\"(min-width: 768px)\");\\r\\n                    mq.addListener(addDestroyCarouselWidthChange);\\r\\n                    addDestroyCarouselWidthChange(mq);\\r\\n                }\\r\\n            });\\r\\n        </script>\\r\\n    </form>\\r\\n</body>\\r\\n</html>\\r\\n\\r\\n'"
      ]
     },
     "execution_count": 4,
     "metadata": {},
     "output_type": "execute_result"
    }
   ],
   "source": [
    "re.text"
   ]
  },
  {
   "cell_type": "code",
   "execution_count": 10,
   "metadata": {},
   "outputs": [],
   "source": [
    "#Getting the table to be extracted \n",
    "table = soup.find('table', class_ = 'table table-sm table-hover screenertable')"
   ]
  },
  {
   "cell_type": "code",
   "execution_count": 11,
   "metadata": {},
   "outputs": [
    {
     "data": {
      "text/plain": [
       "<table class=\"table table-sm table-hover screenertable\">\n",
       "<thead>\n",
       "<tr>\n",
       "<th scope=\"col\">Company</th>\n",
       "<th scope=\"col\">Price<span class=\"muted\">Rs.</span></th>\n",
       "<th scope=\"col\">Day High<span class=\"muted\">Rs.</span></th>\n",
       "</tr>\n",
       "</thead>\n",
       "<tbody>\n",
       "<tr>\n",
       "<td>\n",
       "<a class=\"complink\" href=\"company/IRFC\">Indian Railway Finance</a>\n",
       "</td>\n",
       "<td class=\"Number\">217.43</td>\n",
       "<td class=\"Number\">224.40</td>\n",
       "</tr>\n",
       "<tr>\n",
       "<td>\n",
       "<a class=\"complink\" href=\"company/IREDA\">Indian Ren. Energy</a>\n",
       "</td>\n",
       "<td class=\"Number\">284.26</td>\n",
       "<td class=\"Number\">304.50</td>\n",
       "</tr>\n",
       "<tr>\n",
       "<td>\n",
       "<a class=\"complink\" href=\"company/RAILTEL\">Railtel Corporation Of India Ltd.</a>\n",
       "</td>\n",
       "<td class=\"Number\">596.90</td>\n",
       "<td class=\"Number\">617.80</td>\n",
       "</tr>\n",
       "<tr>\n",
       "<td>\n",
       "<a class=\"complink\" href=\"company/RVNL\">Rail Vikas Nigam</a>\n",
       "</td>\n",
       "<td class=\"Number\">626.75</td>\n",
       "<td class=\"Number\">645.00</td>\n",
       "</tr>\n",
       "<tr>\n",
       "<td>\n",
       "<a class=\"complink\" href=\"company/IRCON\">Ircon International</a>\n",
       "</td>\n",
       "<td class=\"Number\">336.80</td>\n",
       "<td class=\"Number\">349.45</td>\n",
       "</tr>\n",
       "<tr>\n",
       "<td>\n",
       "<a class=\"complink\" href=\"company/SCI\">Shipping Corpn.</a>\n",
       "</td>\n",
       "<td class=\"Number\">345.65</td>\n",
       "<td class=\"Number\">384.20</td>\n",
       "</tr>\n",
       "<tr>\n",
       "<td>\n",
       "<a class=\"complink\" href=\"company/OIL\">Oil India</a>\n",
       "</td>\n",
       "<td class=\"Number\">614.45</td>\n",
       "<td class=\"Number\">653.00</td>\n",
       "</tr>\n",
       "<tr>\n",
       "<td>\n",
       "<a class=\"complink\" href=\"company/WIPRO\">Wipro</a>\n",
       "</td>\n",
       "<td class=\"Number\">560.15</td>\n",
       "<td class=\"Number\">564.80</td>\n",
       "</tr>\n",
       "<tr>\n",
       "<td>\n",
       "<a class=\"complink\" href=\"company/AXISBANK\">Axis Bank</a>\n",
       "</td>\n",
       "<td class=\"Number\">1317.30</td>\n",
       "<td class=\"Number\">1339.65</td>\n",
       "</tr>\n",
       "<tr>\n",
       "<td>\n",
       "<a class=\"complink\" href=\"company/HUDCO\">Housing &amp; Urban Dev.</a>\n",
       "</td>\n",
       "<td class=\"Number\">334.00</td>\n",
       "<td class=\"Number\">353.70</td>\n",
       "</tr>\n",
       "<tr>\n",
       "<td>\n",
       "<a class=\"complink\" href=\"company/IFCI\">IFCI</a>\n",
       "</td>\n",
       "<td class=\"Number\">69.57</td>\n",
       "<td class=\"Number\">72.00</td>\n",
       "</tr>\n",
       "<tr>\n",
       "<td>\n",
       "<a class=\"complink\" href=\"company/KPITTECH\">KPIT Technologies</a>\n",
       "</td>\n",
       "<td class=\"Number\">1865.55</td>\n",
       "<td class=\"Number\">1928.70</td>\n",
       "</tr>\n",
       "<tr>\n",
       "<td>\n",
       "<a class=\"complink\" href=\"company/ZOMATO\">Zomato</a>\n",
       "</td>\n",
       "<td class=\"Number\">222.47</td>\n",
       "<td class=\"Number\">223.25</td>\n",
       "</tr>\n",
       "<tr>\n",
       "<td>\n",
       "<a class=\"complink\" href=\"company/ONGC\">ONGC</a>\n",
       "</td>\n",
       "<td class=\"Number\">307.10</td>\n",
       "<td class=\"Number\">311.75</td>\n",
       "</tr>\n",
       "<tr>\n",
       "<td>\n",
       "<a class=\"complink\" href=\"company/ENGINERSIN\">Engineers India</a>\n",
       "</td>\n",
       "<td class=\"Number\">287.95</td>\n",
       "<td class=\"Number\">303.90</td>\n",
       "</tr>\n",
       "</tbody>\n",
       "</table>"
      ]
     },
     "execution_count": 11,
     "metadata": {},
     "output_type": "execute_result"
    }
   ],
   "source": [
    "table"
   ]
  },
  {
   "cell_type": "code",
   "execution_count": 12,
   "metadata": {},
   "outputs": [],
   "source": [
    "#getting the headers of the table \n",
    "headers = table.find_all('th')"
   ]
  },
  {
   "cell_type": "code",
   "execution_count": 13,
   "metadata": {},
   "outputs": [
    {
     "data": {
      "text/plain": [
       "[<th scope=\"col\">Company</th>,\n",
       " <th scope=\"col\">Price<span class=\"muted\">Rs.</span></th>,\n",
       " <th scope=\"col\">Day High<span class=\"muted\">Rs.</span></th>]"
      ]
     },
     "execution_count": 13,
     "metadata": {},
     "output_type": "execute_result"
    }
   ],
   "source": [
    "headers"
   ]
  },
  {
   "cell_type": "code",
   "execution_count": 14,
   "metadata": {},
   "outputs": [],
   "source": [
    "titles = []\n",
    "for i in headers:\n",
    "    titles.append(i.text)"
   ]
  },
  {
   "cell_type": "code",
   "execution_count": 15,
   "metadata": {},
   "outputs": [
    {
     "data": {
      "text/plain": [
       "['Company', 'PriceRs.', 'Day HighRs.']"
      ]
     },
     "execution_count": 15,
     "metadata": {},
     "output_type": "execute_result"
    }
   ],
   "source": [
    "titles"
   ]
  },
  {
   "cell_type": "code",
   "execution_count": 16,
   "metadata": {},
   "outputs": [],
   "source": [
    "#putting these titles as the column names of the df\n",
    "import pandas as pd\n",
    "\n",
    "df = pd.DataFrame(columns=titles)"
   ]
  },
  {
   "cell_type": "code",
   "execution_count": 17,
   "metadata": {},
   "outputs": [
    {
     "data": {
      "text/html": [
       "<div>\n",
       "<style scoped>\n",
       "    .dataframe tbody tr th:only-of-type {\n",
       "        vertical-align: middle;\n",
       "    }\n",
       "\n",
       "    .dataframe tbody tr th {\n",
       "        vertical-align: top;\n",
       "    }\n",
       "\n",
       "    .dataframe thead th {\n",
       "        text-align: right;\n",
       "    }\n",
       "</style>\n",
       "<table border=\"1\" class=\"dataframe\">\n",
       "  <thead>\n",
       "    <tr style=\"text-align: right;\">\n",
       "      <th></th>\n",
       "      <th>Company</th>\n",
       "      <th>PriceRs.</th>\n",
       "      <th>Day HighRs.</th>\n",
       "    </tr>\n",
       "  </thead>\n",
       "  <tbody>\n",
       "  </tbody>\n",
       "</table>\n",
       "</div>"
      ],
      "text/plain": [
       "Empty DataFrame\n",
       "Columns: [Company, PriceRs., Day HighRs.]\n",
       "Index: []"
      ]
     },
     "execution_count": 17,
     "metadata": {},
     "output_type": "execute_result"
    }
   ],
   "source": [
    "df"
   ]
  },
  {
   "cell_type": "code",
   "execution_count": 18,
   "metadata": {},
   "outputs": [],
   "source": [
    "#now acessing the row data for the tables \n",
    "rows = table.find_all('tr')"
   ]
  },
  {
   "cell_type": "code",
   "execution_count": 19,
   "metadata": {},
   "outputs": [
    {
     "data": {
      "text/plain": [
       "[<tr>\n",
       " <th scope=\"col\">Company</th>\n",
       " <th scope=\"col\">Price<span class=\"muted\">Rs.</span></th>\n",
       " <th scope=\"col\">Day High<span class=\"muted\">Rs.</span></th>\n",
       " </tr>,\n",
       " <tr>\n",
       " <td>\n",
       " <a class=\"complink\" href=\"company/IRFC\">Indian Railway Finance</a>\n",
       " </td>\n",
       " <td class=\"Number\">217.43</td>\n",
       " <td class=\"Number\">224.40</td>\n",
       " </tr>,\n",
       " <tr>\n",
       " <td>\n",
       " <a class=\"complink\" href=\"company/IREDA\">Indian Ren. Energy</a>\n",
       " </td>\n",
       " <td class=\"Number\">284.26</td>\n",
       " <td class=\"Number\">304.50</td>\n",
       " </tr>,\n",
       " <tr>\n",
       " <td>\n",
       " <a class=\"complink\" href=\"company/RAILTEL\">Railtel Corporation Of India Ltd.</a>\n",
       " </td>\n",
       " <td class=\"Number\">596.90</td>\n",
       " <td class=\"Number\">617.80</td>\n",
       " </tr>,\n",
       " <tr>\n",
       " <td>\n",
       " <a class=\"complink\" href=\"company/RVNL\">Rail Vikas Nigam</a>\n",
       " </td>\n",
       " <td class=\"Number\">626.75</td>\n",
       " <td class=\"Number\">645.00</td>\n",
       " </tr>,\n",
       " <tr>\n",
       " <td>\n",
       " <a class=\"complink\" href=\"company/IRCON\">Ircon International</a>\n",
       " </td>\n",
       " <td class=\"Number\">336.80</td>\n",
       " <td class=\"Number\">349.45</td>\n",
       " </tr>,\n",
       " <tr>\n",
       " <td>\n",
       " <a class=\"complink\" href=\"company/SCI\">Shipping Corpn.</a>\n",
       " </td>\n",
       " <td class=\"Number\">345.65</td>\n",
       " <td class=\"Number\">384.20</td>\n",
       " </tr>,\n",
       " <tr>\n",
       " <td>\n",
       " <a class=\"complink\" href=\"company/OIL\">Oil India</a>\n",
       " </td>\n",
       " <td class=\"Number\">614.45</td>\n",
       " <td class=\"Number\">653.00</td>\n",
       " </tr>,\n",
       " <tr>\n",
       " <td>\n",
       " <a class=\"complink\" href=\"company/WIPRO\">Wipro</a>\n",
       " </td>\n",
       " <td class=\"Number\">560.15</td>\n",
       " <td class=\"Number\">564.80</td>\n",
       " </tr>,\n",
       " <tr>\n",
       " <td>\n",
       " <a class=\"complink\" href=\"company/AXISBANK\">Axis Bank</a>\n",
       " </td>\n",
       " <td class=\"Number\">1317.30</td>\n",
       " <td class=\"Number\">1339.65</td>\n",
       " </tr>,\n",
       " <tr>\n",
       " <td>\n",
       " <a class=\"complink\" href=\"company/HUDCO\">Housing &amp; Urban Dev.</a>\n",
       " </td>\n",
       " <td class=\"Number\">334.00</td>\n",
       " <td class=\"Number\">353.70</td>\n",
       " </tr>,\n",
       " <tr>\n",
       " <td>\n",
       " <a class=\"complink\" href=\"company/IFCI\">IFCI</a>\n",
       " </td>\n",
       " <td class=\"Number\">69.57</td>\n",
       " <td class=\"Number\">72.00</td>\n",
       " </tr>,\n",
       " <tr>\n",
       " <td>\n",
       " <a class=\"complink\" href=\"company/KPITTECH\">KPIT Technologies</a>\n",
       " </td>\n",
       " <td class=\"Number\">1865.55</td>\n",
       " <td class=\"Number\">1928.70</td>\n",
       " </tr>,\n",
       " <tr>\n",
       " <td>\n",
       " <a class=\"complink\" href=\"company/ZOMATO\">Zomato</a>\n",
       " </td>\n",
       " <td class=\"Number\">222.47</td>\n",
       " <td class=\"Number\">223.25</td>\n",
       " </tr>,\n",
       " <tr>\n",
       " <td>\n",
       " <a class=\"complink\" href=\"company/ONGC\">ONGC</a>\n",
       " </td>\n",
       " <td class=\"Number\">307.10</td>\n",
       " <td class=\"Number\">311.75</td>\n",
       " </tr>,\n",
       " <tr>\n",
       " <td>\n",
       " <a class=\"complink\" href=\"company/ENGINERSIN\">Engineers India</a>\n",
       " </td>\n",
       " <td class=\"Number\">287.95</td>\n",
       " <td class=\"Number\">303.90</td>\n",
       " </tr>]"
      ]
     },
     "execution_count": 19,
     "metadata": {},
     "output_type": "execute_result"
    }
   ],
   "source": [
    "rows #it also contains our header so we need to remove it "
   ]
  },
  {
   "cell_type": "code",
   "execution_count": 21,
   "metadata": {},
   "outputs": [
    {
     "data": {
      "text/plain": [
       "'\\n\\nIndian Railway Finance\\n\\n217.43\\n224.40\\n'"
      ]
     },
     "execution_count": 21,
     "metadata": {},
     "output_type": "execute_result"
    }
   ],
   "source": [
    "rows[1].text"
   ]
  },
  {
   "cell_type": "code",
   "execution_count": 29,
   "metadata": {},
   "outputs": [
    {
     "name": "stdout",
     "output_type": "stream",
     "text": [
      "['\\nIndian Railway Finance\\n', '217.43', '224.40']\n",
      "['\\nIndian Ren. Energy\\n', '284.26', '304.50']\n",
      "['\\nRailtel Corporation Of India Ltd.\\n', '596.90', '617.80']\n",
      "['\\nRail Vikas Nigam\\n', '626.75', '645.00']\n",
      "['\\nIrcon International\\n', '336.80', '349.45']\n",
      "['\\nShipping Corpn.\\n', '345.65', '384.20']\n",
      "['\\nOil India\\n', '614.45', '653.00']\n",
      "['\\nWipro\\n', '560.15', '564.80']\n",
      "['\\nAxis Bank\\n', '1317.30', '1339.65']\n",
      "['\\nHousing & Urban Dev.\\n', '334.00', '353.70']\n",
      "['\\nIFCI\\n', '69.57', '72.00']\n",
      "['\\nKPIT Technologies\\n', '1865.55', '1928.70']\n",
      "['\\nZomato\\n', '222.47', '223.25']\n",
      "['\\nONGC\\n', '307.10', '311.75']\n",
      "['\\nEngineers India\\n', '287.95', '303.90']\n"
     ]
    }
   ],
   "source": [
    "for i in rows[1:]:\n",
    "    #print(i)\n",
    "    data = i.find_all('td') \n",
    "    row = [tr.text for tr in data] \n",
    "    l = len(df)\n",
    "    df.loc[l] = row"
   ]
  },
  {
   "cell_type": "code",
   "execution_count": 30,
   "metadata": {},
   "outputs": [
    {
     "data": {
      "text/html": [
       "<div>\n",
       "<style scoped>\n",
       "    .dataframe tbody tr th:only-of-type {\n",
       "        vertical-align: middle;\n",
       "    }\n",
       "\n",
       "    .dataframe tbody tr th {\n",
       "        vertical-align: top;\n",
       "    }\n",
       "\n",
       "    .dataframe thead th {\n",
       "        text-align: right;\n",
       "    }\n",
       "</style>\n",
       "<table border=\"1\" class=\"dataframe\">\n",
       "  <thead>\n",
       "    <tr style=\"text-align: right;\">\n",
       "      <th></th>\n",
       "      <th>Company</th>\n",
       "      <th>PriceRs.</th>\n",
       "      <th>Day HighRs.</th>\n",
       "    </tr>\n",
       "  </thead>\n",
       "  <tbody>\n",
       "    <tr>\n",
       "      <th>0</th>\n",
       "      <td>\\nIndian Railway Finance\\n</td>\n",
       "      <td>217.43</td>\n",
       "      <td>224.40</td>\n",
       "    </tr>\n",
       "    <tr>\n",
       "      <th>1</th>\n",
       "      <td>\\nIndian Ren. Energy\\n</td>\n",
       "      <td>284.26</td>\n",
       "      <td>304.50</td>\n",
       "    </tr>\n",
       "    <tr>\n",
       "      <th>2</th>\n",
       "      <td>\\nRailtel Corporation Of India Ltd.\\n</td>\n",
       "      <td>596.90</td>\n",
       "      <td>617.80</td>\n",
       "    </tr>\n",
       "    <tr>\n",
       "      <th>3</th>\n",
       "      <td>\\nRail Vikas Nigam\\n</td>\n",
       "      <td>626.75</td>\n",
       "      <td>645.00</td>\n",
       "    </tr>\n",
       "    <tr>\n",
       "      <th>4</th>\n",
       "      <td>\\nIrcon International\\n</td>\n",
       "      <td>336.80</td>\n",
       "      <td>349.45</td>\n",
       "    </tr>\n",
       "    <tr>\n",
       "      <th>5</th>\n",
       "      <td>\\nShipping Corpn.\\n</td>\n",
       "      <td>345.65</td>\n",
       "      <td>384.20</td>\n",
       "    </tr>\n",
       "    <tr>\n",
       "      <th>6</th>\n",
       "      <td>\\nOil India\\n</td>\n",
       "      <td>614.45</td>\n",
       "      <td>653.00</td>\n",
       "    </tr>\n",
       "    <tr>\n",
       "      <th>7</th>\n",
       "      <td>\\nWipro\\n</td>\n",
       "      <td>560.15</td>\n",
       "      <td>564.80</td>\n",
       "    </tr>\n",
       "    <tr>\n",
       "      <th>8</th>\n",
       "      <td>\\nAxis Bank\\n</td>\n",
       "      <td>1317.30</td>\n",
       "      <td>1339.65</td>\n",
       "    </tr>\n",
       "    <tr>\n",
       "      <th>9</th>\n",
       "      <td>\\nHousing &amp; Urban Dev.\\n</td>\n",
       "      <td>334.00</td>\n",
       "      <td>353.70</td>\n",
       "    </tr>\n",
       "    <tr>\n",
       "      <th>10</th>\n",
       "      <td>\\nIFCI\\n</td>\n",
       "      <td>69.57</td>\n",
       "      <td>72.00</td>\n",
       "    </tr>\n",
       "    <tr>\n",
       "      <th>11</th>\n",
       "      <td>\\nKPIT Technologies\\n</td>\n",
       "      <td>1865.55</td>\n",
       "      <td>1928.70</td>\n",
       "    </tr>\n",
       "    <tr>\n",
       "      <th>12</th>\n",
       "      <td>\\nZomato\\n</td>\n",
       "      <td>222.47</td>\n",
       "      <td>223.25</td>\n",
       "    </tr>\n",
       "    <tr>\n",
       "      <th>13</th>\n",
       "      <td>\\nONGC\\n</td>\n",
       "      <td>307.10</td>\n",
       "      <td>311.75</td>\n",
       "    </tr>\n",
       "    <tr>\n",
       "      <th>14</th>\n",
       "      <td>\\nEngineers India\\n</td>\n",
       "      <td>287.95</td>\n",
       "      <td>303.90</td>\n",
       "    </tr>\n",
       "  </tbody>\n",
       "</table>\n",
       "</div>"
      ],
      "text/plain": [
       "                                  Company PriceRs. Day HighRs.\n",
       "0              \\nIndian Railway Finance\\n   217.43      224.40\n",
       "1                  \\nIndian Ren. Energy\\n   284.26      304.50\n",
       "2   \\nRailtel Corporation Of India Ltd.\\n   596.90      617.80\n",
       "3                    \\nRail Vikas Nigam\\n   626.75      645.00\n",
       "4                 \\nIrcon International\\n   336.80      349.45\n",
       "5                     \\nShipping Corpn.\\n   345.65      384.20\n",
       "6                           \\nOil India\\n   614.45      653.00\n",
       "7                               \\nWipro\\n   560.15      564.80\n",
       "8                           \\nAxis Bank\\n  1317.30     1339.65\n",
       "9                \\nHousing & Urban Dev.\\n   334.00      353.70\n",
       "10                               \\nIFCI\\n    69.57       72.00\n",
       "11                  \\nKPIT Technologies\\n  1865.55     1928.70\n",
       "12                             \\nZomato\\n   222.47      223.25\n",
       "13                               \\nONGC\\n   307.10      311.75\n",
       "14                    \\nEngineers India\\n   287.95      303.90"
      ]
     },
     "execution_count": 30,
     "metadata": {},
     "output_type": "execute_result"
    }
   ],
   "source": [
    "df"
   ]
  },
  {
   "cell_type": "code",
   "execution_count": 31,
   "metadata": {},
   "outputs": [],
   "source": [
    "#scraoing another table for practice "
   ]
  },
  {
   "cell_type": "code",
   "execution_count": 32,
   "metadata": {},
   "outputs": [],
   "source": [
    "import requests \n",
    "from bs4 import BeautifulSoup\n",
    "import pandas as pd"
   ]
  },
  {
   "cell_type": "code",
   "execution_count": 41,
   "metadata": {},
   "outputs": [],
   "source": [
    "url = 'https://ticker.finology.in/'\n",
    "re = requests.get(url)\n",
    "soup = BeautifulSoup(re.text, 'lxml')"
   ]
  },
  {
   "cell_type": "code",
   "execution_count": 48,
   "metadata": {},
   "outputs": [],
   "source": [
    "#extracting the table \n",
    "tables = soup.find_all('table', class_ = 'table table-sm table-hover screenertable')"
   ]
  },
  {
   "cell_type": "code",
   "execution_count": 49,
   "metadata": {},
   "outputs": [
    {
     "data": {
      "text/plain": [
       "4"
      ]
     },
     "execution_count": 49,
     "metadata": {},
     "output_type": "execute_result"
    }
   ],
   "source": [
    "len(tables)"
   ]
  },
  {
   "cell_type": "code",
   "execution_count": 53,
   "metadata": {},
   "outputs": [],
   "source": [
    "from pandas import DataFrame\n",
    "for i in range(len(tables)):\n",
    "    headers = tables[i].find_all('th')\n",
    "    titles = [i.text for i in headers]\n",
    "    df=DataFrame(columns=titles)\n",
    "    for row in tables[i].find_all('tr')[1:]:\n",
    "        data = row.find_all('td')\n",
    "        row_data = [a.text.strip() for a in data]\n",
    "        length = len(df)\n",
    "        df.loc[length] = row_data"
   ]
  },
  {
   "cell_type": "code",
   "execution_count": 54,
   "metadata": {},
   "outputs": [
    {
     "data": {
      "text/html": [
       "<div>\n",
       "<style scoped>\n",
       "    .dataframe tbody tr th:only-of-type {\n",
       "        vertical-align: middle;\n",
       "    }\n",
       "\n",
       "    .dataframe tbody tr th {\n",
       "        vertical-align: top;\n",
       "    }\n",
       "\n",
       "    .dataframe thead th {\n",
       "        text-align: right;\n",
       "    }\n",
       "</style>\n",
       "<table border=\"1\" class=\"dataframe\">\n",
       "  <thead>\n",
       "    <tr style=\"text-align: right;\">\n",
       "      <th></th>\n",
       "      <th>Company</th>\n",
       "      <th>priceRs.</th>\n",
       "      <th>Change%</th>\n",
       "    </tr>\n",
       "  </thead>\n",
       "  <tbody>\n",
       "    <tr>\n",
       "      <th>0</th>\n",
       "      <td>GE Power India</td>\n",
       "      <td>571.45</td>\n",
       "      <td>-9.99%</td>\n",
       "    </tr>\n",
       "    <tr>\n",
       "      <th>1</th>\n",
       "      <td>Kesar Terminal&amp;Infra</td>\n",
       "      <td>35.45</td>\n",
       "      <td>-9.91%</td>\n",
       "    </tr>\n",
       "    <tr>\n",
       "      <th>2</th>\n",
       "      <td>Winny Imm &amp; Edu Ser</td>\n",
       "      <td>309.80</td>\n",
       "      <td>-9.53%</td>\n",
       "    </tr>\n",
       "    <tr>\n",
       "      <th>3</th>\n",
       "      <td>Integrated Personnel</td>\n",
       "      <td>161.20</td>\n",
       "      <td>-9.44%</td>\n",
       "    </tr>\n",
       "    <tr>\n",
       "      <th>4</th>\n",
       "      <td>Mallcom</td>\n",
       "      <td>1421.85</td>\n",
       "      <td>-7.4%</td>\n",
       "    </tr>\n",
       "    <tr>\n",
       "      <th>5</th>\n",
       "      <td>Signoria Creation</td>\n",
       "      <td>148.80</td>\n",
       "      <td>-7%</td>\n",
       "    </tr>\n",
       "    <tr>\n",
       "      <th>6</th>\n",
       "      <td>Suraj Estate Develop</td>\n",
       "      <td>597.00</td>\n",
       "      <td>-6.65%</td>\n",
       "    </tr>\n",
       "    <tr>\n",
       "      <th>7</th>\n",
       "      <td>Precot</td>\n",
       "      <td>501.20</td>\n",
       "      <td>-6.29%</td>\n",
       "    </tr>\n",
       "    <tr>\n",
       "      <th>8</th>\n",
       "      <td>Go Digit General Ins</td>\n",
       "      <td>341.80</td>\n",
       "      <td>-6.21%</td>\n",
       "    </tr>\n",
       "    <tr>\n",
       "      <th>9</th>\n",
       "      <td>Atul Auto</td>\n",
       "      <td>735.70</td>\n",
       "      <td>-6.21%</td>\n",
       "    </tr>\n",
       "    <tr>\n",
       "      <th>10</th>\n",
       "      <td>KCP Sugar&amp;Inds. Corp</td>\n",
       "      <td>51.12</td>\n",
       "      <td>-6.2%</td>\n",
       "    </tr>\n",
       "    <tr>\n",
       "      <th>11</th>\n",
       "      <td>RPP Infra Projects</td>\n",
       "      <td>163.22</td>\n",
       "      <td>-6.17%</td>\n",
       "    </tr>\n",
       "    <tr>\n",
       "      <th>12</th>\n",
       "      <td>Emkay Taps &amp; Cutting</td>\n",
       "      <td>883.70</td>\n",
       "      <td>-5.99%</td>\n",
       "    </tr>\n",
       "    <tr>\n",
       "      <th>13</th>\n",
       "      <td>Loyal Textile Mills</td>\n",
       "      <td>560.00</td>\n",
       "      <td>-5.83%</td>\n",
       "    </tr>\n",
       "    <tr>\n",
       "      <th>14</th>\n",
       "      <td>Prime Focus</td>\n",
       "      <td>134.98</td>\n",
       "      <td>-5.73%</td>\n",
       "    </tr>\n",
       "  </tbody>\n",
       "</table>\n",
       "</div>"
      ],
      "text/plain": [
       "                 Company priceRs. Change%\n",
       "0         GE Power India   571.45  -9.99%\n",
       "1   Kesar Terminal&Infra    35.45  -9.91%\n",
       "2    Winny Imm & Edu Ser   309.80  -9.53%\n",
       "3   Integrated Personnel   161.20  -9.44%\n",
       "4                Mallcom  1421.85   -7.4%\n",
       "5      Signoria Creation   148.80     -7%\n",
       "6   Suraj Estate Develop   597.00  -6.65%\n",
       "7                 Precot   501.20  -6.29%\n",
       "8   Go Digit General Ins   341.80  -6.21%\n",
       "9              Atul Auto   735.70  -6.21%\n",
       "10  KCP Sugar&Inds. Corp    51.12   -6.2%\n",
       "11    RPP Infra Projects   163.22  -6.17%\n",
       "12  Emkay Taps & Cutting   883.70  -5.99%\n",
       "13   Loyal Textile Mills   560.00  -5.83%\n",
       "14           Prime Focus   134.98  -5.73%"
      ]
     },
     "execution_count": 54,
     "metadata": {},
     "output_type": "execute_result"
    }
   ],
   "source": [
    "df"
   ]
  },
  {
   "cell_type": "code",
   "execution_count": null,
   "metadata": {},
   "outputs": [],
   "source": []
  }
 ],
 "metadata": {
  "kernelspec": {
   "display_name": "Python 3",
   "language": "python",
   "name": "python3"
  },
  "language_info": {
   "codemirror_mode": {
    "name": "ipython",
    "version": 3
   },
   "file_extension": ".py",
   "mimetype": "text/x-python",
   "name": "python",
   "nbconvert_exporter": "python",
   "pygments_lexer": "ipython3",
   "version": "3.10.12"
  }
 },
 "nbformat": 4,
 "nbformat_minor": 2
}
