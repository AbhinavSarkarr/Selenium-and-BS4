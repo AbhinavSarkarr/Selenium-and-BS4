{
 "cells": [
  {
   "cell_type": "code",
   "execution_count": 1,
   "metadata": {},
   "outputs": [],
   "source": [
    "import requests\n",
    "import pandas as pd\n",
    "from bs4 import BeautifulSoup"
   ]
  },
  {
   "cell_type": "code",
   "execution_count": 3,
   "metadata": {},
   "outputs": [],
   "source": [
    "url = 'https://www.iplt20.com/auction'\n",
    "re = requests.get(url)\n",
    "soup = BeautifulSoup(re.text, 'lxml')"
   ]
  },
  {
   "cell_type": "code",
   "execution_count": 28,
   "metadata": {},
   "outputs": [],
   "source": [
    "table = soup.find('table', class_='ih-td-tab auction-tbl')"
   ]
  },
  {
   "cell_type": "code",
   "execution_count": 29,
   "metadata": {},
   "outputs": [
    {
     "data": {
      "text/plain": [
       "200"
      ]
     },
     "execution_count": 29,
     "metadata": {},
     "output_type": "execute_result"
    }
   ],
   "source": [
    "re.status_code"
   ]
  },
  {
   "cell_type": "code",
   "execution_count": 30,
   "metadata": {},
   "outputs": [
    {
     "data": {
      "text/plain": [
       "<table class=\"ih-td-tab auction-tbl\" id=\"t3\" width=\"100%\">\n",
       "<thead>\n",
       "<tr class=\"ih-pt-tbl\" style=\"display:revert\">\n",
       "<th class=\"skip-filter\" style=\"width:25%;text-align: left;\">TEAM</th>\n",
       "<th class=\"skip-filter\" style=\"width:25%;\">FUNDS REMAINING</th>\n",
       "<th class=\"skip-filter\" style=\"width:25%;\">OVERSEAS PLAYERS </th>\n",
       "<th class=\"skip-filter\" style=\"width:25%;\">TOTAL PLAYERS</th>\n",
       "</tr>\n",
       "<thead>\n",
       "</thead></thead><tbody id=\"pointsdata\">\n",
       "<tr>\n",
       "<td class=\"ih-t-color\">\n",
       "<div class=\"ih-pt-ic\">\n",
       "<div class=\"ih-pt-img\" style=\"width: 60px\">\n",
       "<img alt=\"\" src=\"https://bcciplayerimages.s3.ap-south-1.amazonaws.com/ipl/franchises/1702465555_CSKroundbig.png\"/>\n",
       "</div>\n",
       "<h2 class=\"ih-pt-cont\">Chennai Super Kings</h2>\n",
       "</div>\n",
       "</td>\n",
       "<td>₹1,00,00,000</td>\n",
       "<td>8</td>\n",
       "<td>25</td>\n",
       "</tr>\n",
       "<tr>\n",
       "<td class=\"ih-t-color\">\n",
       "<div class=\"ih-pt-ic\">\n",
       "<div class=\"ih-pt-img\" style=\"width: 60px\">\n",
       "<img alt=\"\" src=\"https://bcciplayerimages.s3.ap-south-1.amazonaws.com/ipl/franchises/1702465727_DCroundbig.png\"/>\n",
       "</div>\n",
       "<h2 class=\"ih-pt-cont\">Delhi Capitals</h2>\n",
       "</div>\n",
       "</td>\n",
       "<td>₹9,90,00,000</td>\n",
       "<td>8</td>\n",
       "<td>25</td>\n",
       "</tr>\n",
       "<tr>\n",
       "<td class=\"ih-t-color\">\n",
       "<div class=\"ih-pt-ic\">\n",
       "<div class=\"ih-pt-img\" style=\"width: 60px\">\n",
       "<img alt=\"\" src=\"https://bcciplayerimages.s3.ap-south-1.amazonaws.com/ipl/franchises/1702465836_GTroundbig.png\"/>\n",
       "</div>\n",
       "<h2 class=\"ih-pt-cont\">Gujarat Titans</h2>\n",
       "</div>\n",
       "</td>\n",
       "<td>₹7,85,00,000</td>\n",
       "<td>8</td>\n",
       "<td>25</td>\n",
       "</tr>\n",
       "<tr>\n",
       "<td class=\"ih-t-color\">\n",
       "<div class=\"ih-pt-ic\">\n",
       "<div class=\"ih-pt-img\" style=\"width: 60px\">\n",
       "<img alt=\"\" src=\"https://bcciplayerimages.s3.ap-south-1.amazonaws.com/ipl/franchises/1702465948_KKRroundbig.png\"/>\n",
       "</div>\n",
       "<h2 class=\"ih-pt-cont\">Kolkata Knight Riders</h2>\n",
       "</div>\n",
       "</td>\n",
       "<td>₹1,35,00,000</td>\n",
       "<td>8</td>\n",
       "<td>23</td>\n",
       "</tr>\n",
       "<tr>\n",
       "<td class=\"ih-t-color\">\n",
       "<div class=\"ih-pt-ic\">\n",
       "<div class=\"ih-pt-img\" style=\"width: 60px\">\n",
       "<img alt=\"\" src=\"https://bcciplayerimages.s3.ap-south-1.amazonaws.com/ipl/franchises/1702466030_LSGroundbig.png\"/>\n",
       "</div>\n",
       "<h2 class=\"ih-pt-cont\">Lucknow Super Giants</h2>\n",
       "</div>\n",
       "</td>\n",
       "<td>₹95,00,000</td>\n",
       "<td>8</td>\n",
       "<td>25</td>\n",
       "</tr>\n",
       "<tr>\n",
       "<td class=\"ih-t-color\">\n",
       "<div class=\"ih-pt-ic\">\n",
       "<div class=\"ih-pt-img\" style=\"width: 60px\">\n",
       "<img alt=\"\" src=\"https://bcciplayerimages.s3.ap-south-1.amazonaws.com/ipl/franchises/1702466090_MIroundbig.png\"/>\n",
       "</div>\n",
       "<h2 class=\"ih-pt-cont\">Mumbai Indians</h2>\n",
       "</div>\n",
       "</td>\n",
       "<td>₹1,05,00,000</td>\n",
       "<td>8</td>\n",
       "<td>25</td>\n",
       "</tr>\n",
       "<tr>\n",
       "<td class=\"ih-t-color\">\n",
       "<div class=\"ih-pt-ic\">\n",
       "<div class=\"ih-pt-img\" style=\"width: 60px\">\n",
       "<img alt=\"\" src=\"https://bcciplayerimages.s3.ap-south-1.amazonaws.com/ipl/franchises/1702466143_PBKSroundbig.png\"/>\n",
       "</div>\n",
       "<h2 class=\"ih-pt-cont\">Punjab Kings</h2>\n",
       "</div>\n",
       "</td>\n",
       "<td>₹4,15,00,000</td>\n",
       "<td>8</td>\n",
       "<td>25</td>\n",
       "</tr>\n",
       "<tr>\n",
       "<td class=\"ih-t-color\">\n",
       "<div class=\"ih-pt-ic\">\n",
       "<div class=\"ih-pt-img\" style=\"width: 60px\">\n",
       "<img alt=\"\" src=\"https://bcciplayerimages.s3.ap-south-1.amazonaws.com/ipl/franchises/1702466295_RRroundbig.png\"/>\n",
       "</div>\n",
       "<h2 class=\"ih-pt-cont\">Rajasthan Royals</h2>\n",
       "</div>\n",
       "</td>\n",
       "<td>₹20,00,000</td>\n",
       "<td>8</td>\n",
       "<td>22</td>\n",
       "</tr>\n",
       "<tr>\n",
       "<td class=\"ih-t-color\">\n",
       "<div class=\"ih-pt-ic\">\n",
       "<div class=\"ih-pt-img\" style=\"width: 60px\">\n",
       "<img alt=\"\" src=\"https://bcciplayerimages.s3.ap-south-1.amazonaws.com/ipl/franchises/1702466217_RCBroundbig.png\"/>\n",
       "</div>\n",
       "<h2 class=\"ih-pt-cont\">Royal Challengers Bengaluru</h2>\n",
       "</div>\n",
       "</td>\n",
       "<td>₹2,85,00,000</td>\n",
       "<td>8</td>\n",
       "<td>25</td>\n",
       "</tr>\n",
       "<tr>\n",
       "<td class=\"ih-t-color\">\n",
       "<div class=\"ih-pt-ic\">\n",
       "<div class=\"ih-pt-img\" style=\"width: 60px\">\n",
       "<img alt=\"\" src=\"https://bcciplayerimages.s3.ap-south-1.amazonaws.com/ipl/franchises/1702466366_SRHroundbig.png\"/>\n",
       "</div>\n",
       "<h2 class=\"ih-pt-cont\">Sunrisers Hyderabad</h2>\n",
       "</div>\n",
       "</td>\n",
       "<td>₹3,20,00,000</td>\n",
       "<td>8</td>\n",
       "<td>25</td>\n",
       "</tr>\n",
       "</tbody>\n",
       "</table>"
      ]
     },
     "execution_count": 30,
     "metadata": {},
     "output_type": "execute_result"
    }
   ],
   "source": [
    "table"
   ]
  },
  {
   "cell_type": "code",
   "execution_count": 31,
   "metadata": {},
   "outputs": [],
   "source": [
    "headers = table.find_all('th')"
   ]
  },
  {
   "cell_type": "code",
   "execution_count": 32,
   "metadata": {},
   "outputs": [
    {
     "data": {
      "text/plain": [
       "[<th class=\"skip-filter\" style=\"width:25%;text-align: left;\">TEAM</th>,\n",
       " <th class=\"skip-filter\" style=\"width:25%;\">FUNDS REMAINING</th>,\n",
       " <th class=\"skip-filter\" style=\"width:25%;\">OVERSEAS PLAYERS </th>,\n",
       " <th class=\"skip-filter\" style=\"width:25%;\">TOTAL PLAYERS</th>]"
      ]
     },
     "execution_count": 32,
     "metadata": {},
     "output_type": "execute_result"
    }
   ],
   "source": [
    "headers"
   ]
  },
  {
   "cell_type": "code",
   "execution_count": 33,
   "metadata": {},
   "outputs": [],
   "source": [
    "titles = [i.text for i in headers]"
   ]
  },
  {
   "cell_type": "code",
   "execution_count": 34,
   "metadata": {},
   "outputs": [
    {
     "data": {
      "text/plain": [
       "['TEAM', 'FUNDS REMAINING', 'OVERSEAS PLAYERS ', 'TOTAL PLAYERS']"
      ]
     },
     "execution_count": 34,
     "metadata": {},
     "output_type": "execute_result"
    }
   ],
   "source": [
    "titles"
   ]
  },
  {
   "cell_type": "code",
   "execution_count": 35,
   "metadata": {},
   "outputs": [],
   "source": [
    "df = pd.DataFrame(columns=titles)"
   ]
  },
  {
   "cell_type": "code",
   "execution_count": 36,
   "metadata": {},
   "outputs": [
    {
     "data": {
      "text/html": [
       "<div>\n",
       "<style scoped>\n",
       "    .dataframe tbody tr th:only-of-type {\n",
       "        vertical-align: middle;\n",
       "    }\n",
       "\n",
       "    .dataframe tbody tr th {\n",
       "        vertical-align: top;\n",
       "    }\n",
       "\n",
       "    .dataframe thead th {\n",
       "        text-align: right;\n",
       "    }\n",
       "</style>\n",
       "<table border=\"1\" class=\"dataframe\">\n",
       "  <thead>\n",
       "    <tr style=\"text-align: right;\">\n",
       "      <th></th>\n",
       "      <th>TEAM</th>\n",
       "      <th>FUNDS REMAINING</th>\n",
       "      <th>OVERSEAS PLAYERS</th>\n",
       "      <th>TOTAL PLAYERS</th>\n",
       "    </tr>\n",
       "  </thead>\n",
       "  <tbody>\n",
       "  </tbody>\n",
       "</table>\n",
       "</div>"
      ],
      "text/plain": [
       "Empty DataFrame\n",
       "Columns: [TEAM, FUNDS REMAINING, OVERSEAS PLAYERS , TOTAL PLAYERS]\n",
       "Index: []"
      ]
     },
     "execution_count": 36,
     "metadata": {},
     "output_type": "execute_result"
    }
   ],
   "source": [
    "df"
   ]
  },
  {
   "cell_type": "code",
   "execution_count": 37,
   "metadata": {},
   "outputs": [],
   "source": [
    "rows = table.find_all('tr')"
   ]
  },
  {
   "cell_type": "code",
   "execution_count": 38,
   "metadata": {},
   "outputs": [
    {
     "data": {
      "text/plain": [
       "[<tr class=\"ih-pt-tbl\" style=\"display:revert\">\n",
       " <th class=\"skip-filter\" style=\"width:25%;text-align: left;\">TEAM</th>\n",
       " <th class=\"skip-filter\" style=\"width:25%;\">FUNDS REMAINING</th>\n",
       " <th class=\"skip-filter\" style=\"width:25%;\">OVERSEAS PLAYERS </th>\n",
       " <th class=\"skip-filter\" style=\"width:25%;\">TOTAL PLAYERS</th>\n",
       " </tr>,\n",
       " <tr>\n",
       " <td class=\"ih-t-color\">\n",
       " <div class=\"ih-pt-ic\">\n",
       " <div class=\"ih-pt-img\" style=\"width: 60px\">\n",
       " <img alt=\"\" src=\"https://bcciplayerimages.s3.ap-south-1.amazonaws.com/ipl/franchises/1702465555_CSKroundbig.png\"/>\n",
       " </div>\n",
       " <h2 class=\"ih-pt-cont\">Chennai Super Kings</h2>\n",
       " </div>\n",
       " </td>\n",
       " <td>₹1,00,00,000</td>\n",
       " <td>8</td>\n",
       " <td>25</td>\n",
       " </tr>,\n",
       " <tr>\n",
       " <td class=\"ih-t-color\">\n",
       " <div class=\"ih-pt-ic\">\n",
       " <div class=\"ih-pt-img\" style=\"width: 60px\">\n",
       " <img alt=\"\" src=\"https://bcciplayerimages.s3.ap-south-1.amazonaws.com/ipl/franchises/1702465727_DCroundbig.png\"/>\n",
       " </div>\n",
       " <h2 class=\"ih-pt-cont\">Delhi Capitals</h2>\n",
       " </div>\n",
       " </td>\n",
       " <td>₹9,90,00,000</td>\n",
       " <td>8</td>\n",
       " <td>25</td>\n",
       " </tr>,\n",
       " <tr>\n",
       " <td class=\"ih-t-color\">\n",
       " <div class=\"ih-pt-ic\">\n",
       " <div class=\"ih-pt-img\" style=\"width: 60px\">\n",
       " <img alt=\"\" src=\"https://bcciplayerimages.s3.ap-south-1.amazonaws.com/ipl/franchises/1702465836_GTroundbig.png\"/>\n",
       " </div>\n",
       " <h2 class=\"ih-pt-cont\">Gujarat Titans</h2>\n",
       " </div>\n",
       " </td>\n",
       " <td>₹7,85,00,000</td>\n",
       " <td>8</td>\n",
       " <td>25</td>\n",
       " </tr>,\n",
       " <tr>\n",
       " <td class=\"ih-t-color\">\n",
       " <div class=\"ih-pt-ic\">\n",
       " <div class=\"ih-pt-img\" style=\"width: 60px\">\n",
       " <img alt=\"\" src=\"https://bcciplayerimages.s3.ap-south-1.amazonaws.com/ipl/franchises/1702465948_KKRroundbig.png\"/>\n",
       " </div>\n",
       " <h2 class=\"ih-pt-cont\">Kolkata Knight Riders</h2>\n",
       " </div>\n",
       " </td>\n",
       " <td>₹1,35,00,000</td>\n",
       " <td>8</td>\n",
       " <td>23</td>\n",
       " </tr>,\n",
       " <tr>\n",
       " <td class=\"ih-t-color\">\n",
       " <div class=\"ih-pt-ic\">\n",
       " <div class=\"ih-pt-img\" style=\"width: 60px\">\n",
       " <img alt=\"\" src=\"https://bcciplayerimages.s3.ap-south-1.amazonaws.com/ipl/franchises/1702466030_LSGroundbig.png\"/>\n",
       " </div>\n",
       " <h2 class=\"ih-pt-cont\">Lucknow Super Giants</h2>\n",
       " </div>\n",
       " </td>\n",
       " <td>₹95,00,000</td>\n",
       " <td>8</td>\n",
       " <td>25</td>\n",
       " </tr>,\n",
       " <tr>\n",
       " <td class=\"ih-t-color\">\n",
       " <div class=\"ih-pt-ic\">\n",
       " <div class=\"ih-pt-img\" style=\"width: 60px\">\n",
       " <img alt=\"\" src=\"https://bcciplayerimages.s3.ap-south-1.amazonaws.com/ipl/franchises/1702466090_MIroundbig.png\"/>\n",
       " </div>\n",
       " <h2 class=\"ih-pt-cont\">Mumbai Indians</h2>\n",
       " </div>\n",
       " </td>\n",
       " <td>₹1,05,00,000</td>\n",
       " <td>8</td>\n",
       " <td>25</td>\n",
       " </tr>,\n",
       " <tr>\n",
       " <td class=\"ih-t-color\">\n",
       " <div class=\"ih-pt-ic\">\n",
       " <div class=\"ih-pt-img\" style=\"width: 60px\">\n",
       " <img alt=\"\" src=\"https://bcciplayerimages.s3.ap-south-1.amazonaws.com/ipl/franchises/1702466143_PBKSroundbig.png\"/>\n",
       " </div>\n",
       " <h2 class=\"ih-pt-cont\">Punjab Kings</h2>\n",
       " </div>\n",
       " </td>\n",
       " <td>₹4,15,00,000</td>\n",
       " <td>8</td>\n",
       " <td>25</td>\n",
       " </tr>,\n",
       " <tr>\n",
       " <td class=\"ih-t-color\">\n",
       " <div class=\"ih-pt-ic\">\n",
       " <div class=\"ih-pt-img\" style=\"width: 60px\">\n",
       " <img alt=\"\" src=\"https://bcciplayerimages.s3.ap-south-1.amazonaws.com/ipl/franchises/1702466295_RRroundbig.png\"/>\n",
       " </div>\n",
       " <h2 class=\"ih-pt-cont\">Rajasthan Royals</h2>\n",
       " </div>\n",
       " </td>\n",
       " <td>₹20,00,000</td>\n",
       " <td>8</td>\n",
       " <td>22</td>\n",
       " </tr>,\n",
       " <tr>\n",
       " <td class=\"ih-t-color\">\n",
       " <div class=\"ih-pt-ic\">\n",
       " <div class=\"ih-pt-img\" style=\"width: 60px\">\n",
       " <img alt=\"\" src=\"https://bcciplayerimages.s3.ap-south-1.amazonaws.com/ipl/franchises/1702466217_RCBroundbig.png\"/>\n",
       " </div>\n",
       " <h2 class=\"ih-pt-cont\">Royal Challengers Bengaluru</h2>\n",
       " </div>\n",
       " </td>\n",
       " <td>₹2,85,00,000</td>\n",
       " <td>8</td>\n",
       " <td>25</td>\n",
       " </tr>,\n",
       " <tr>\n",
       " <td class=\"ih-t-color\">\n",
       " <div class=\"ih-pt-ic\">\n",
       " <div class=\"ih-pt-img\" style=\"width: 60px\">\n",
       " <img alt=\"\" src=\"https://bcciplayerimages.s3.ap-south-1.amazonaws.com/ipl/franchises/1702466366_SRHroundbig.png\"/>\n",
       " </div>\n",
       " <h2 class=\"ih-pt-cont\">Sunrisers Hyderabad</h2>\n",
       " </div>\n",
       " </td>\n",
       " <td>₹3,20,00,000</td>\n",
       " <td>8</td>\n",
       " <td>25</td>\n",
       " </tr>]"
      ]
     },
     "execution_count": 38,
     "metadata": {},
     "output_type": "execute_result"
    }
   ],
   "source": [
    "rows"
   ]
  },
  {
   "cell_type": "code",
   "execution_count": 56,
   "metadata": {},
   "outputs": [],
   "source": [
    "for i in rows[1:]:\n",
    "    row = i.find_all('td')\n",
    "    data = [i.text.strip() for i in row]\n",
    "    l = len(df)\n",
    "    df.loc[l]=data"
   ]
  },
  {
   "cell_type": "code",
   "execution_count": 57,
   "metadata": {},
   "outputs": [
    {
     "data": {
      "text/html": [
       "<div>\n",
       "<style scoped>\n",
       "    .dataframe tbody tr th:only-of-type {\n",
       "        vertical-align: middle;\n",
       "    }\n",
       "\n",
       "    .dataframe tbody tr th {\n",
       "        vertical-align: top;\n",
       "    }\n",
       "\n",
       "    .dataframe thead th {\n",
       "        text-align: right;\n",
       "    }\n",
       "</style>\n",
       "<table border=\"1\" class=\"dataframe\">\n",
       "  <thead>\n",
       "    <tr style=\"text-align: right;\">\n",
       "      <th></th>\n",
       "      <th>TEAM</th>\n",
       "      <th>FUNDS REMAINING</th>\n",
       "      <th>OVERSEAS PLAYERS</th>\n",
       "      <th>TOTAL PLAYERS</th>\n",
       "    </tr>\n",
       "  </thead>\n",
       "  <tbody>\n",
       "    <tr>\n",
       "      <th>0</th>\n",
       "      <td>Chennai Super Kings</td>\n",
       "      <td>₹1,00,00,000</td>\n",
       "      <td>8</td>\n",
       "      <td>25</td>\n",
       "    </tr>\n",
       "    <tr>\n",
       "      <th>1</th>\n",
       "      <td>Delhi Capitals</td>\n",
       "      <td>₹9,90,00,000</td>\n",
       "      <td>8</td>\n",
       "      <td>25</td>\n",
       "    </tr>\n",
       "    <tr>\n",
       "      <th>2</th>\n",
       "      <td>Gujarat Titans</td>\n",
       "      <td>₹7,85,00,000</td>\n",
       "      <td>8</td>\n",
       "      <td>25</td>\n",
       "    </tr>\n",
       "    <tr>\n",
       "      <th>3</th>\n",
       "      <td>Kolkata Knight Riders</td>\n",
       "      <td>₹1,35,00,000</td>\n",
       "      <td>8</td>\n",
       "      <td>23</td>\n",
       "    </tr>\n",
       "    <tr>\n",
       "      <th>4</th>\n",
       "      <td>Lucknow Super Giants</td>\n",
       "      <td>₹95,00,000</td>\n",
       "      <td>8</td>\n",
       "      <td>25</td>\n",
       "    </tr>\n",
       "    <tr>\n",
       "      <th>5</th>\n",
       "      <td>Mumbai Indians</td>\n",
       "      <td>₹1,05,00,000</td>\n",
       "      <td>8</td>\n",
       "      <td>25</td>\n",
       "    </tr>\n",
       "    <tr>\n",
       "      <th>6</th>\n",
       "      <td>Punjab Kings</td>\n",
       "      <td>₹4,15,00,000</td>\n",
       "      <td>8</td>\n",
       "      <td>25</td>\n",
       "    </tr>\n",
       "    <tr>\n",
       "      <th>7</th>\n",
       "      <td>Rajasthan Royals</td>\n",
       "      <td>₹20,00,000</td>\n",
       "      <td>8</td>\n",
       "      <td>22</td>\n",
       "    </tr>\n",
       "    <tr>\n",
       "      <th>8</th>\n",
       "      <td>Royal Challengers Bengaluru</td>\n",
       "      <td>₹2,85,00,000</td>\n",
       "      <td>8</td>\n",
       "      <td>25</td>\n",
       "    </tr>\n",
       "    <tr>\n",
       "      <th>9</th>\n",
       "      <td>Sunrisers Hyderabad</td>\n",
       "      <td>₹3,20,00,000</td>\n",
       "      <td>8</td>\n",
       "      <td>25</td>\n",
       "    </tr>\n",
       "  </tbody>\n",
       "</table>\n",
       "</div>"
      ],
      "text/plain": [
       "                          TEAM FUNDS REMAINING OVERSEAS PLAYERS  TOTAL PLAYERS\n",
       "0          Chennai Super Kings    ₹1,00,00,000                 8            25\n",
       "1               Delhi Capitals    ₹9,90,00,000                 8            25\n",
       "2               Gujarat Titans    ₹7,85,00,000                 8            25\n",
       "3        Kolkata Knight Riders    ₹1,35,00,000                 8            23\n",
       "4         Lucknow Super Giants      ₹95,00,000                 8            25\n",
       "5               Mumbai Indians    ₹1,05,00,000                 8            25\n",
       "6                 Punjab Kings    ₹4,15,00,000                 8            25\n",
       "7             Rajasthan Royals      ₹20,00,000                 8            22\n",
       "8  Royal Challengers Bengaluru    ₹2,85,00,000                 8            25\n",
       "9          Sunrisers Hyderabad    ₹3,20,00,000                 8            25"
      ]
     },
     "execution_count": 57,
     "metadata": {},
     "output_type": "execute_result"
    }
   ],
   "source": [
    "df"
   ]
  },
  {
   "cell_type": "code",
   "execution_count": 58,
   "metadata": {},
   "outputs": [],
   "source": [
    "df.to_csv('ipl_data.csv')"
   ]
  },
  {
   "cell_type": "code",
   "execution_count": null,
   "metadata": {},
   "outputs": [],
   "source": []
  }
 ],
 "metadata": {
  "kernelspec": {
   "display_name": "Python 3",
   "language": "python",
   "name": "python3"
  },
  "language_info": {
   "codemirror_mode": {
    "name": "ipython",
    "version": 3
   },
   "file_extension": ".py",
   "mimetype": "text/x-python",
   "name": "python",
   "nbconvert_exporter": "python",
   "pygments_lexer": "ipython3",
   "version": "3.10.12"
  }
 },
 "nbformat": 4,
 "nbformat_minor": 2
}
